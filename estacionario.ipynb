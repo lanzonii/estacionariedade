{
 "cells": [
  {
   "cell_type": "code",
   "execution_count": 2,
   "id": "261d7951",
   "metadata": {},
   "outputs": [],
   "source": [
    "import pandas as pd\n",
    "import plotly.express as px\n",
    "import plotly.graph_objects as go"
   ]
  },
  {
   "cell_type": "code",
   "execution_count": 3,
   "id": "ba84cc1e",
   "metadata": {},
   "outputs": [],
   "source": [
    "def autocovariance(df, column, lag: int = 0):\n",
    "    df = df.copy()\n",
    "    mean = df[column].mean()\n",
    "    n = df[column].count()\n",
    "    if lag != 0:\n",
    "        df['lag'] = df[column].shift(lag)\n",
    "    else:\n",
    "        df['lag'] = df[column]\n",
    "    df = df.dropna()\n",
    "    df['product'] = (df[column]-mean)*(df['lag']-mean)\n",
    "    return df['product'].sum()/n\n",
    "\n",
    "def autocorrelation(df, column, lag):\n",
    "    auto = autocovariance(df, column, lag)\n",
    "    var = autocovariance(df, column, 0)\n",
    "    print('auto: ', auto)\n",
    "    print('var: ', var)\n",
    "    return auto/var"
   ]
  },
  {
   "cell_type": "code",
   "execution_count": 4,
   "id": "f10c23c8",
   "metadata": {},
   "outputs": [
    {
     "data": {
      "text/html": [
       "<div>\n",
       "<style scoped>\n",
       "    .dataframe tbody tr th:only-of-type {\n",
       "        vertical-align: middle;\n",
       "    }\n",
       "\n",
       "    .dataframe tbody tr th {\n",
       "        vertical-align: top;\n",
       "    }\n",
       "\n",
       "    .dataframe thead th {\n",
       "        text-align: right;\n",
       "    }\n",
       "</style>\n",
       "<table border=\"1\" class=\"dataframe\">\n",
       "  <thead>\n",
       "    <tr style=\"text-align: right;\">\n",
       "      <th></th>\n",
       "      <th>Estacionária</th>\n",
       "      <th>Não Estacionária</th>\n",
       "    </tr>\n",
       "  </thead>\n",
       "  <tbody>\n",
       "    <tr>\n",
       "      <th>0</th>\n",
       "      <td>0.496714</td>\n",
       "      <td>-1.415371</td>\n",
       "    </tr>\n",
       "    <tr>\n",
       "      <th>1</th>\n",
       "      <td>-0.138264</td>\n",
       "      <td>-1.836016</td>\n",
       "    </tr>\n",
       "    <tr>\n",
       "      <th>2</th>\n",
       "      <td>0.647689</td>\n",
       "      <td>-2.178731</td>\n",
       "    </tr>\n",
       "    <tr>\n",
       "      <th>3</th>\n",
       "      <td>1.523030</td>\n",
       "      <td>-2.981008</td>\n",
       "    </tr>\n",
       "    <tr>\n",
       "      <th>4</th>\n",
       "      <td>-0.234153</td>\n",
       "      <td>-3.142294</td>\n",
       "    </tr>\n",
       "    <tr>\n",
       "      <th>...</th>\n",
       "      <td>...</td>\n",
       "      <td>...</td>\n",
       "    </tr>\n",
       "    <tr>\n",
       "      <th>95</th>\n",
       "      <td>-1.463515</td>\n",
       "      <td>4.045353</td>\n",
       "    </tr>\n",
       "    <tr>\n",
       "      <th>96</th>\n",
       "      <td>0.296120</td>\n",
       "      <td>3.161495</td>\n",
       "    </tr>\n",
       "    <tr>\n",
       "      <th>97</th>\n",
       "      <td>0.261055</td>\n",
       "      <td>3.315220</td>\n",
       "    </tr>\n",
       "    <tr>\n",
       "      <th>98</th>\n",
       "      <td>0.005113</td>\n",
       "      <td>3.373429</td>\n",
       "    </tr>\n",
       "    <tr>\n",
       "      <th>99</th>\n",
       "      <td>-0.234587</td>\n",
       "      <td>2.230459</td>\n",
       "    </tr>\n",
       "  </tbody>\n",
       "</table>\n",
       "<p>100 rows × 2 columns</p>\n",
       "</div>"
      ],
      "text/plain": [
       "    Estacionária  Não Estacionária\n",
       "0       0.496714         -1.415371\n",
       "1      -0.138264         -1.836016\n",
       "2       0.647689         -2.178731\n",
       "3       1.523030         -2.981008\n",
       "4      -0.234153         -3.142294\n",
       "..           ...               ...\n",
       "95     -1.463515          4.045353\n",
       "96      0.296120          3.161495\n",
       "97      0.261055          3.315220\n",
       "98      0.005113          3.373429\n",
       "99     -0.234587          2.230459\n",
       "\n",
       "[100 rows x 2 columns]"
      ]
     },
     "execution_count": 4,
     "metadata": {},
     "output_type": "execute_result"
    }
   ],
   "source": [
    "df = pd.read_excel('data.xlsx').loc[:, 'Estacionária':]\n",
    "df"
   ]
  },
  {
   "cell_type": "code",
   "execution_count": 5,
   "id": "bc97826f",
   "metadata": {},
   "outputs": [
    {
     "data": {
      "application/vnd.plotly.v1+json": {
       "config": {
        "plotlyServerURL": "https://plot.ly"
       },
       "data": [
        {
         "hovertemplate": "index=%{x}<br>Estacionária=%{y}<extra></extra>",
         "legendgroup": "",
         "line": {
          "color": "#636efa",
          "dash": "solid"
         },
         "marker": {
          "symbol": "circle"
         },
         "mode": "lines",
         "name": "",
         "orientation": "v",
         "showlegend": false,
         "type": "scatter",
         "x": [
          0,
          1,
          2,
          3,
          4,
          5,
          6,
          7,
          8,
          9,
          10,
          11,
          12,
          13,
          14,
          15,
          16,
          17,
          18,
          19,
          20,
          21,
          22,
          23,
          24,
          25,
          26,
          27,
          28,
          29,
          30,
          31,
          32,
          33,
          34,
          35,
          36,
          37,
          38,
          39,
          40,
          41,
          42,
          43,
          44,
          45,
          46,
          47,
          48,
          49,
          50,
          51,
          52,
          53,
          54,
          55,
          56,
          57,
          58,
          59,
          60,
          61,
          62,
          63,
          64,
          65,
          66,
          67,
          68,
          69,
          70,
          71,
          72,
          73,
          74,
          75,
          76,
          77,
          78,
          79,
          80,
          81,
          82,
          83,
          84,
          85,
          86,
          87,
          88,
          89,
          90,
          91,
          92,
          93,
          94,
          95,
          96,
          97,
          98,
          99
         ],
         "xaxis": "x",
         "y": [
          0.4967141530112327,
          -0.1382643011711847,
          0.6476885381006925,
          1.523029856408025,
          -0.234153374723336,
          -0.2341369569491805,
          1.579212815507391,
          0.7674347291529088,
          -0.4694743859349521,
          0.5425600435859647,
          -0.4634176928124623,
          -0.4657297535702569,
          0.2419622715660341,
          -1.913280244657798,
          -1.724917832513033,
          -0.5622875292409727,
          -1.012831120334424,
          0.3142473325952739,
          -0.9080240755212109,
          -1.412303701335291,
          1.465648768921554,
          -0.2257763004865357,
          0.06752820468792384,
          -1.424748186213457,
          -0.5443827245251827,
          0.1109225897098661,
          -1.150993577422303,
          0.375698018345672,
          -0.600638689918805,
          -0.2916937497932768,
          -0.6017066122293969,
          1.852278184508938,
          -0.01349722473793392,
          -1.0577109289559,
          0.822544912103189,
          -1.220843649971022,
          0.2088635950047554,
          -1.959670123879776,
          -1.328186048898431,
          0.1968612358691235,
          0.7384665799954104,
          0.1713682811899705,
          -0.1156482823882405,
          -0.3011036955892888,
          -1.478521990367427,
          -0.7198442083947086,
          -0.4606387709597875,
          1.057122226218916,
          0.3436182895684614,
          -1.763040155362734,
          0.324083969394795,
          -0.3850822804163165,
          -0.6769220003059587,
          0.6116762888408679,
          1.030999522495951,
          0.9312801191161986,
          -0.8392175232226385,
          -0.3092123758512146,
          0.331263431403564,
          0.9755451271223592,
          -0.47917423784529,
          -0.1856589766638171,
          -1.106334974006028,
          -1.196206624080671,
          0.812525822394198,
          1.356240028570823,
          -0.07201012158033385,
          1.003532897892024,
          0.3616360250476341,
          -0.6451197546051243,
          0.3613956055084139,
          1.538036566465969,
          -0.03582603910995154,
          1.564643655814006,
          -2.619745104089744,
          0.8219025043752238,
          0.08704706823817122,
          -0.2990073504658675,
          0.0917607765355023,
          -1.987568914600893,
          -0.2196718878375119,
          0.3571125715117464,
          1.477894044741516,
          -0.5182702182736474,
          -0.8084936028931876,
          -0.5017570435845365,
          0.9154021177020741,
          0.3287511096596845,
          -0.5297602037670388,
          0.5132674331133561,
          0.09707754934804039,
          0.9686449905328892,
          -0.7020530938773524,
          -0.3276621465977682,
          -0.3921081531321576,
          -1.463514948132119,
          0.2961202770645761,
          0.2610552721798893,
          0.00511345664246089,
          -0.2345871333751469
         ],
         "yaxis": "y"
        }
       ],
       "layout": {
        "legend": {
         "tracegroupgap": 0
        },
        "margin": {
         "t": 60
        },
        "template": {
         "data": {
          "bar": [
           {
            "error_x": {
             "color": "#2a3f5f"
            },
            "error_y": {
             "color": "#2a3f5f"
            },
            "marker": {
             "line": {
              "color": "#E5ECF6",
              "width": 0.5
             },
             "pattern": {
              "fillmode": "overlay",
              "size": 10,
              "solidity": 0.2
             }
            },
            "type": "bar"
           }
          ],
          "barpolar": [
           {
            "marker": {
             "line": {
              "color": "#E5ECF6",
              "width": 0.5
             },
             "pattern": {
              "fillmode": "overlay",
              "size": 10,
              "solidity": 0.2
             }
            },
            "type": "barpolar"
           }
          ],
          "carpet": [
           {
            "aaxis": {
             "endlinecolor": "#2a3f5f",
             "gridcolor": "white",
             "linecolor": "white",
             "minorgridcolor": "white",
             "startlinecolor": "#2a3f5f"
            },
            "baxis": {
             "endlinecolor": "#2a3f5f",
             "gridcolor": "white",
             "linecolor": "white",
             "minorgridcolor": "white",
             "startlinecolor": "#2a3f5f"
            },
            "type": "carpet"
           }
          ],
          "choropleth": [
           {
            "colorbar": {
             "outlinewidth": 0,
             "ticks": ""
            },
            "type": "choropleth"
           }
          ],
          "contour": [
           {
            "colorbar": {
             "outlinewidth": 0,
             "ticks": ""
            },
            "colorscale": [
             [
              0,
              "#0d0887"
             ],
             [
              0.1111111111111111,
              "#46039f"
             ],
             [
              0.2222222222222222,
              "#7201a8"
             ],
             [
              0.3333333333333333,
              "#9c179e"
             ],
             [
              0.4444444444444444,
              "#bd3786"
             ],
             [
              0.5555555555555556,
              "#d8576b"
             ],
             [
              0.6666666666666666,
              "#ed7953"
             ],
             [
              0.7777777777777778,
              "#fb9f3a"
             ],
             [
              0.8888888888888888,
              "#fdca26"
             ],
             [
              1,
              "#f0f921"
             ]
            ],
            "type": "contour"
           }
          ],
          "contourcarpet": [
           {
            "colorbar": {
             "outlinewidth": 0,
             "ticks": ""
            },
            "type": "contourcarpet"
           }
          ],
          "heatmap": [
           {
            "colorbar": {
             "outlinewidth": 0,
             "ticks": ""
            },
            "colorscale": [
             [
              0,
              "#0d0887"
             ],
             [
              0.1111111111111111,
              "#46039f"
             ],
             [
              0.2222222222222222,
              "#7201a8"
             ],
             [
              0.3333333333333333,
              "#9c179e"
             ],
             [
              0.4444444444444444,
              "#bd3786"
             ],
             [
              0.5555555555555556,
              "#d8576b"
             ],
             [
              0.6666666666666666,
              "#ed7953"
             ],
             [
              0.7777777777777778,
              "#fb9f3a"
             ],
             [
              0.8888888888888888,
              "#fdca26"
             ],
             [
              1,
              "#f0f921"
             ]
            ],
            "type": "heatmap"
           }
          ],
          "heatmapgl": [
           {
            "colorbar": {
             "outlinewidth": 0,
             "ticks": ""
            },
            "colorscale": [
             [
              0,
              "#0d0887"
             ],
             [
              0.1111111111111111,
              "#46039f"
             ],
             [
              0.2222222222222222,
              "#7201a8"
             ],
             [
              0.3333333333333333,
              "#9c179e"
             ],
             [
              0.4444444444444444,
              "#bd3786"
             ],
             [
              0.5555555555555556,
              "#d8576b"
             ],
             [
              0.6666666666666666,
              "#ed7953"
             ],
             [
              0.7777777777777778,
              "#fb9f3a"
             ],
             [
              0.8888888888888888,
              "#fdca26"
             ],
             [
              1,
              "#f0f921"
             ]
            ],
            "type": "heatmapgl"
           }
          ],
          "histogram": [
           {
            "marker": {
             "pattern": {
              "fillmode": "overlay",
              "size": 10,
              "solidity": 0.2
             }
            },
            "type": "histogram"
           }
          ],
          "histogram2d": [
           {
            "colorbar": {
             "outlinewidth": 0,
             "ticks": ""
            },
            "colorscale": [
             [
              0,
              "#0d0887"
             ],
             [
              0.1111111111111111,
              "#46039f"
             ],
             [
              0.2222222222222222,
              "#7201a8"
             ],
             [
              0.3333333333333333,
              "#9c179e"
             ],
             [
              0.4444444444444444,
              "#bd3786"
             ],
             [
              0.5555555555555556,
              "#d8576b"
             ],
             [
              0.6666666666666666,
              "#ed7953"
             ],
             [
              0.7777777777777778,
              "#fb9f3a"
             ],
             [
              0.8888888888888888,
              "#fdca26"
             ],
             [
              1,
              "#f0f921"
             ]
            ],
            "type": "histogram2d"
           }
          ],
          "histogram2dcontour": [
           {
            "colorbar": {
             "outlinewidth": 0,
             "ticks": ""
            },
            "colorscale": [
             [
              0,
              "#0d0887"
             ],
             [
              0.1111111111111111,
              "#46039f"
             ],
             [
              0.2222222222222222,
              "#7201a8"
             ],
             [
              0.3333333333333333,
              "#9c179e"
             ],
             [
              0.4444444444444444,
              "#bd3786"
             ],
             [
              0.5555555555555556,
              "#d8576b"
             ],
             [
              0.6666666666666666,
              "#ed7953"
             ],
             [
              0.7777777777777778,
              "#fb9f3a"
             ],
             [
              0.8888888888888888,
              "#fdca26"
             ],
             [
              1,
              "#f0f921"
             ]
            ],
            "type": "histogram2dcontour"
           }
          ],
          "mesh3d": [
           {
            "colorbar": {
             "outlinewidth": 0,
             "ticks": ""
            },
            "type": "mesh3d"
           }
          ],
          "parcoords": [
           {
            "line": {
             "colorbar": {
              "outlinewidth": 0,
              "ticks": ""
             }
            },
            "type": "parcoords"
           }
          ],
          "pie": [
           {
            "automargin": true,
            "type": "pie"
           }
          ],
          "scatter": [
           {
            "fillpattern": {
             "fillmode": "overlay",
             "size": 10,
             "solidity": 0.2
            },
            "type": "scatter"
           }
          ],
          "scatter3d": [
           {
            "line": {
             "colorbar": {
              "outlinewidth": 0,
              "ticks": ""
             }
            },
            "marker": {
             "colorbar": {
              "outlinewidth": 0,
              "ticks": ""
             }
            },
            "type": "scatter3d"
           }
          ],
          "scattercarpet": [
           {
            "marker": {
             "colorbar": {
              "outlinewidth": 0,
              "ticks": ""
             }
            },
            "type": "scattercarpet"
           }
          ],
          "scattergeo": [
           {
            "marker": {
             "colorbar": {
              "outlinewidth": 0,
              "ticks": ""
             }
            },
            "type": "scattergeo"
           }
          ],
          "scattergl": [
           {
            "marker": {
             "colorbar": {
              "outlinewidth": 0,
              "ticks": ""
             }
            },
            "type": "scattergl"
           }
          ],
          "scattermapbox": [
           {
            "marker": {
             "colorbar": {
              "outlinewidth": 0,
              "ticks": ""
             }
            },
            "type": "scattermapbox"
           }
          ],
          "scatterpolar": [
           {
            "marker": {
             "colorbar": {
              "outlinewidth": 0,
              "ticks": ""
             }
            },
            "type": "scatterpolar"
           }
          ],
          "scatterpolargl": [
           {
            "marker": {
             "colorbar": {
              "outlinewidth": 0,
              "ticks": ""
             }
            },
            "type": "scatterpolargl"
           }
          ],
          "scatterternary": [
           {
            "marker": {
             "colorbar": {
              "outlinewidth": 0,
              "ticks": ""
             }
            },
            "type": "scatterternary"
           }
          ],
          "surface": [
           {
            "colorbar": {
             "outlinewidth": 0,
             "ticks": ""
            },
            "colorscale": [
             [
              0,
              "#0d0887"
             ],
             [
              0.1111111111111111,
              "#46039f"
             ],
             [
              0.2222222222222222,
              "#7201a8"
             ],
             [
              0.3333333333333333,
              "#9c179e"
             ],
             [
              0.4444444444444444,
              "#bd3786"
             ],
             [
              0.5555555555555556,
              "#d8576b"
             ],
             [
              0.6666666666666666,
              "#ed7953"
             ],
             [
              0.7777777777777778,
              "#fb9f3a"
             ],
             [
              0.8888888888888888,
              "#fdca26"
             ],
             [
              1,
              "#f0f921"
             ]
            ],
            "type": "surface"
           }
          ],
          "table": [
           {
            "cells": {
             "fill": {
              "color": "#EBF0F8"
             },
             "line": {
              "color": "white"
             }
            },
            "header": {
             "fill": {
              "color": "#C8D4E3"
             },
             "line": {
              "color": "white"
             }
            },
            "type": "table"
           }
          ]
         },
         "layout": {
          "annotationdefaults": {
           "arrowcolor": "#2a3f5f",
           "arrowhead": 0,
           "arrowwidth": 1
          },
          "autotypenumbers": "strict",
          "coloraxis": {
           "colorbar": {
            "outlinewidth": 0,
            "ticks": ""
           }
          },
          "colorscale": {
           "diverging": [
            [
             0,
             "#8e0152"
            ],
            [
             0.1,
             "#c51b7d"
            ],
            [
             0.2,
             "#de77ae"
            ],
            [
             0.3,
             "#f1b6da"
            ],
            [
             0.4,
             "#fde0ef"
            ],
            [
             0.5,
             "#f7f7f7"
            ],
            [
             0.6,
             "#e6f5d0"
            ],
            [
             0.7,
             "#b8e186"
            ],
            [
             0.8,
             "#7fbc41"
            ],
            [
             0.9,
             "#4d9221"
            ],
            [
             1,
             "#276419"
            ]
           ],
           "sequential": [
            [
             0,
             "#0d0887"
            ],
            [
             0.1111111111111111,
             "#46039f"
            ],
            [
             0.2222222222222222,
             "#7201a8"
            ],
            [
             0.3333333333333333,
             "#9c179e"
            ],
            [
             0.4444444444444444,
             "#bd3786"
            ],
            [
             0.5555555555555556,
             "#d8576b"
            ],
            [
             0.6666666666666666,
             "#ed7953"
            ],
            [
             0.7777777777777778,
             "#fb9f3a"
            ],
            [
             0.8888888888888888,
             "#fdca26"
            ],
            [
             1,
             "#f0f921"
            ]
           ],
           "sequentialminus": [
            [
             0,
             "#0d0887"
            ],
            [
             0.1111111111111111,
             "#46039f"
            ],
            [
             0.2222222222222222,
             "#7201a8"
            ],
            [
             0.3333333333333333,
             "#9c179e"
            ],
            [
             0.4444444444444444,
             "#bd3786"
            ],
            [
             0.5555555555555556,
             "#d8576b"
            ],
            [
             0.6666666666666666,
             "#ed7953"
            ],
            [
             0.7777777777777778,
             "#fb9f3a"
            ],
            [
             0.8888888888888888,
             "#fdca26"
            ],
            [
             1,
             "#f0f921"
            ]
           ]
          },
          "colorway": [
           "#636efa",
           "#EF553B",
           "#00cc96",
           "#ab63fa",
           "#FFA15A",
           "#19d3f3",
           "#FF6692",
           "#B6E880",
           "#FF97FF",
           "#FECB52"
          ],
          "font": {
           "color": "#2a3f5f"
          },
          "geo": {
           "bgcolor": "white",
           "lakecolor": "white",
           "landcolor": "#E5ECF6",
           "showlakes": true,
           "showland": true,
           "subunitcolor": "white"
          },
          "hoverlabel": {
           "align": "left"
          },
          "hovermode": "closest",
          "mapbox": {
           "style": "light"
          },
          "paper_bgcolor": "white",
          "plot_bgcolor": "#E5ECF6",
          "polar": {
           "angularaxis": {
            "gridcolor": "white",
            "linecolor": "white",
            "ticks": ""
           },
           "bgcolor": "#E5ECF6",
           "radialaxis": {
            "gridcolor": "white",
            "linecolor": "white",
            "ticks": ""
           }
          },
          "scene": {
           "xaxis": {
            "backgroundcolor": "#E5ECF6",
            "gridcolor": "white",
            "gridwidth": 2,
            "linecolor": "white",
            "showbackground": true,
            "ticks": "",
            "zerolinecolor": "white"
           },
           "yaxis": {
            "backgroundcolor": "#E5ECF6",
            "gridcolor": "white",
            "gridwidth": 2,
            "linecolor": "white",
            "showbackground": true,
            "ticks": "",
            "zerolinecolor": "white"
           },
           "zaxis": {
            "backgroundcolor": "#E5ECF6",
            "gridcolor": "white",
            "gridwidth": 2,
            "linecolor": "white",
            "showbackground": true,
            "ticks": "",
            "zerolinecolor": "white"
           }
          },
          "shapedefaults": {
           "line": {
            "color": "#2a3f5f"
           }
          },
          "ternary": {
           "aaxis": {
            "gridcolor": "white",
            "linecolor": "white",
            "ticks": ""
           },
           "baxis": {
            "gridcolor": "white",
            "linecolor": "white",
            "ticks": ""
           },
           "bgcolor": "#E5ECF6",
           "caxis": {
            "gridcolor": "white",
            "linecolor": "white",
            "ticks": ""
           }
          },
          "title": {
           "x": 0.05
          },
          "xaxis": {
           "automargin": true,
           "gridcolor": "white",
           "linecolor": "white",
           "ticks": "",
           "title": {
            "standoff": 15
           },
           "zerolinecolor": "white",
           "zerolinewidth": 2
          },
          "yaxis": {
           "automargin": true,
           "gridcolor": "white",
           "linecolor": "white",
           "ticks": "",
           "title": {
            "standoff": 15
           },
           "zerolinecolor": "white",
           "zerolinewidth": 2
          }
         }
        },
        "xaxis": {
         "anchor": "y",
         "domain": [
          0,
          1
         ],
         "title": {
          "text": "index"
         }
        },
        "yaxis": {
         "anchor": "x",
         "domain": [
          0,
          1
         ],
         "title": {
          "text": "Estacionária"
         }
        }
       }
      }
     },
     "metadata": {},
     "output_type": "display_data"
    }
   ],
   "source": [
    "px.line(df, df.index, 'Estacionária')"
   ]
  },
  {
   "cell_type": "code",
   "execution_count": 6,
   "id": "c812d8e7",
   "metadata": {},
   "outputs": [
    {
     "data": {
      "application/vnd.plotly.v1+json": {
       "config": {
        "plotlyServerURL": "https://plot.ly"
       },
       "data": [
        {
         "hovertemplate": "index=%{x}<br>Não Estacionária=%{y}<extra></extra>",
         "legendgroup": "",
         "line": {
          "color": "#636efa",
          "dash": "solid"
         },
         "marker": {
          "symbol": "circle"
         },
         "mode": "lines",
         "name": "",
         "orientation": "v",
         "showlegend": false,
         "type": "scatter",
         "x": [
          0,
          1,
          2,
          3,
          4,
          5,
          6,
          7,
          8,
          9,
          10,
          11,
          12,
          13,
          14,
          15,
          16,
          17,
          18,
          19,
          20,
          21,
          22,
          23,
          24,
          25,
          26,
          27,
          28,
          29,
          30,
          31,
          32,
          33,
          34,
          35,
          36,
          37,
          38,
          39,
          40,
          41,
          42,
          43,
          44,
          45,
          46,
          47,
          48,
          49,
          50,
          51,
          52,
          53,
          54,
          55,
          56,
          57,
          58,
          59,
          60,
          61,
          62,
          63,
          64,
          65,
          66,
          67,
          68,
          69,
          70,
          71,
          72,
          73,
          74,
          75,
          76,
          77,
          78,
          79,
          80,
          81,
          82,
          83,
          84,
          85,
          86,
          87,
          88,
          89,
          90,
          91,
          92,
          93,
          94,
          95,
          96,
          97,
          98,
          99
         ],
         "xaxis": "x",
         "y": [
          -1.415370742050414,
          -1.836016064815773,
          -2.178730581342543,
          -2.981007850564162,
          -3.142293562230171,
          -2.738242705415633,
          -0.8520568042051024,
          -0.6774789913732635,
          -0.4199286006504991,
          -0.4943745164166664,
          -2.413145731715708,
          -2.439659607164924,
          -2.379429397223898,
          0.08381271526138834,
          -0.1085482495197342,
          0.1929990928138783,
          0.158287323108635,
          -1.010390714510897,
          0.1324321000041235,
          0.8843651326908977,
          1.675397079733945,
          0.7660096249392057,
          2.168803935875305,
          0.766952873083024,
          1.353809966883294,
          3.544265592693273,
          2.553729267562585,
          1.987431537959813,
          2.087082903047454,
          1.583607248931254,
          0.03294381786512179,
          0.1015067926711491,
          -0.9607969210549557,
          -0.4872044904197741,
          -1.406628724653577,
          0.1433056803639621,
          -0.639947611972275,
          -0.9620091281779506,
          -0.1484919108082808,
          -1.379356227242236,
          -1.151896292638107,
          0.1552464616443214,
          -1.452236772916906,
          -1.267602914384602,
          -1.007720120136178,
          -0.2258972483588679,
          -1.46284795923695,
          -2.783304572321226,
          -2.261363006704328,
          -1.964378333471142,
          -1.713885483125266,
          -1.36743727362829,
          -2.047461995206781,
          -1.815208298045778,
          -1.522135824747096,
          -2.236487242773464,
          -0.3707127316287078,
          0.1031201892830798,
          -1.088183307919569,
          -0.4316296992857391,
          -1.406311369513061,
          -0.6192267657706086,
          0.5393688132367954,
          -0.281313505114915,
          0.6820626241294068,
          1.094843551065905,
          1.916903711060395,
          3.813696693714342,
          3.568308577711472,
          2.814572413353982,
          1.925057983728459,
          1.109247698763021,
          1.032145989348916,
          1.37329796416556,
          1.649988763495579,
          2.477172012531603,
          2.49017390440951,
          3.943707981566827,
          3.679051148328871,
          6.399220314918489,
          7.024887662683495,
          6.167730106267213,
          5.0968376082061,
          5.579310023449286,
          5.355847238123435,
          6.069847732215527,
          6.543085356789072,
          6.470256444132199,
          5.623462726063794,
          4.10861550137793,
          3.662100549310908,
          4.518499343634381,
          4.732593087764585,
          3.486854309052597,
          3.660035234903778,
          4.045352614632615,
          3.161495178431482,
          3.31522028437701,
          3.373429002823011,
          2.230458704992388
         ],
         "yaxis": "y"
        }
       ],
       "layout": {
        "legend": {
         "tracegroupgap": 0
        },
        "margin": {
         "t": 60
        },
        "template": {
         "data": {
          "bar": [
           {
            "error_x": {
             "color": "#2a3f5f"
            },
            "error_y": {
             "color": "#2a3f5f"
            },
            "marker": {
             "line": {
              "color": "#E5ECF6",
              "width": 0.5
             },
             "pattern": {
              "fillmode": "overlay",
              "size": 10,
              "solidity": 0.2
             }
            },
            "type": "bar"
           }
          ],
          "barpolar": [
           {
            "marker": {
             "line": {
              "color": "#E5ECF6",
              "width": 0.5
             },
             "pattern": {
              "fillmode": "overlay",
              "size": 10,
              "solidity": 0.2
             }
            },
            "type": "barpolar"
           }
          ],
          "carpet": [
           {
            "aaxis": {
             "endlinecolor": "#2a3f5f",
             "gridcolor": "white",
             "linecolor": "white",
             "minorgridcolor": "white",
             "startlinecolor": "#2a3f5f"
            },
            "baxis": {
             "endlinecolor": "#2a3f5f",
             "gridcolor": "white",
             "linecolor": "white",
             "minorgridcolor": "white",
             "startlinecolor": "#2a3f5f"
            },
            "type": "carpet"
           }
          ],
          "choropleth": [
           {
            "colorbar": {
             "outlinewidth": 0,
             "ticks": ""
            },
            "type": "choropleth"
           }
          ],
          "contour": [
           {
            "colorbar": {
             "outlinewidth": 0,
             "ticks": ""
            },
            "colorscale": [
             [
              0,
              "#0d0887"
             ],
             [
              0.1111111111111111,
              "#46039f"
             ],
             [
              0.2222222222222222,
              "#7201a8"
             ],
             [
              0.3333333333333333,
              "#9c179e"
             ],
             [
              0.4444444444444444,
              "#bd3786"
             ],
             [
              0.5555555555555556,
              "#d8576b"
             ],
             [
              0.6666666666666666,
              "#ed7953"
             ],
             [
              0.7777777777777778,
              "#fb9f3a"
             ],
             [
              0.8888888888888888,
              "#fdca26"
             ],
             [
              1,
              "#f0f921"
             ]
            ],
            "type": "contour"
           }
          ],
          "contourcarpet": [
           {
            "colorbar": {
             "outlinewidth": 0,
             "ticks": ""
            },
            "type": "contourcarpet"
           }
          ],
          "heatmap": [
           {
            "colorbar": {
             "outlinewidth": 0,
             "ticks": ""
            },
            "colorscale": [
             [
              0,
              "#0d0887"
             ],
             [
              0.1111111111111111,
              "#46039f"
             ],
             [
              0.2222222222222222,
              "#7201a8"
             ],
             [
              0.3333333333333333,
              "#9c179e"
             ],
             [
              0.4444444444444444,
              "#bd3786"
             ],
             [
              0.5555555555555556,
              "#d8576b"
             ],
             [
              0.6666666666666666,
              "#ed7953"
             ],
             [
              0.7777777777777778,
              "#fb9f3a"
             ],
             [
              0.8888888888888888,
              "#fdca26"
             ],
             [
              1,
              "#f0f921"
             ]
            ],
            "type": "heatmap"
           }
          ],
          "heatmapgl": [
           {
            "colorbar": {
             "outlinewidth": 0,
             "ticks": ""
            },
            "colorscale": [
             [
              0,
              "#0d0887"
             ],
             [
              0.1111111111111111,
              "#46039f"
             ],
             [
              0.2222222222222222,
              "#7201a8"
             ],
             [
              0.3333333333333333,
              "#9c179e"
             ],
             [
              0.4444444444444444,
              "#bd3786"
             ],
             [
              0.5555555555555556,
              "#d8576b"
             ],
             [
              0.6666666666666666,
              "#ed7953"
             ],
             [
              0.7777777777777778,
              "#fb9f3a"
             ],
             [
              0.8888888888888888,
              "#fdca26"
             ],
             [
              1,
              "#f0f921"
             ]
            ],
            "type": "heatmapgl"
           }
          ],
          "histogram": [
           {
            "marker": {
             "pattern": {
              "fillmode": "overlay",
              "size": 10,
              "solidity": 0.2
             }
            },
            "type": "histogram"
           }
          ],
          "histogram2d": [
           {
            "colorbar": {
             "outlinewidth": 0,
             "ticks": ""
            },
            "colorscale": [
             [
              0,
              "#0d0887"
             ],
             [
              0.1111111111111111,
              "#46039f"
             ],
             [
              0.2222222222222222,
              "#7201a8"
             ],
             [
              0.3333333333333333,
              "#9c179e"
             ],
             [
              0.4444444444444444,
              "#bd3786"
             ],
             [
              0.5555555555555556,
              "#d8576b"
             ],
             [
              0.6666666666666666,
              "#ed7953"
             ],
             [
              0.7777777777777778,
              "#fb9f3a"
             ],
             [
              0.8888888888888888,
              "#fdca26"
             ],
             [
              1,
              "#f0f921"
             ]
            ],
            "type": "histogram2d"
           }
          ],
          "histogram2dcontour": [
           {
            "colorbar": {
             "outlinewidth": 0,
             "ticks": ""
            },
            "colorscale": [
             [
              0,
              "#0d0887"
             ],
             [
              0.1111111111111111,
              "#46039f"
             ],
             [
              0.2222222222222222,
              "#7201a8"
             ],
             [
              0.3333333333333333,
              "#9c179e"
             ],
             [
              0.4444444444444444,
              "#bd3786"
             ],
             [
              0.5555555555555556,
              "#d8576b"
             ],
             [
              0.6666666666666666,
              "#ed7953"
             ],
             [
              0.7777777777777778,
              "#fb9f3a"
             ],
             [
              0.8888888888888888,
              "#fdca26"
             ],
             [
              1,
              "#f0f921"
             ]
            ],
            "type": "histogram2dcontour"
           }
          ],
          "mesh3d": [
           {
            "colorbar": {
             "outlinewidth": 0,
             "ticks": ""
            },
            "type": "mesh3d"
           }
          ],
          "parcoords": [
           {
            "line": {
             "colorbar": {
              "outlinewidth": 0,
              "ticks": ""
             }
            },
            "type": "parcoords"
           }
          ],
          "pie": [
           {
            "automargin": true,
            "type": "pie"
           }
          ],
          "scatter": [
           {
            "fillpattern": {
             "fillmode": "overlay",
             "size": 10,
             "solidity": 0.2
            },
            "type": "scatter"
           }
          ],
          "scatter3d": [
           {
            "line": {
             "colorbar": {
              "outlinewidth": 0,
              "ticks": ""
             }
            },
            "marker": {
             "colorbar": {
              "outlinewidth": 0,
              "ticks": ""
             }
            },
            "type": "scatter3d"
           }
          ],
          "scattercarpet": [
           {
            "marker": {
             "colorbar": {
              "outlinewidth": 0,
              "ticks": ""
             }
            },
            "type": "scattercarpet"
           }
          ],
          "scattergeo": [
           {
            "marker": {
             "colorbar": {
              "outlinewidth": 0,
              "ticks": ""
             }
            },
            "type": "scattergeo"
           }
          ],
          "scattergl": [
           {
            "marker": {
             "colorbar": {
              "outlinewidth": 0,
              "ticks": ""
             }
            },
            "type": "scattergl"
           }
          ],
          "scattermapbox": [
           {
            "marker": {
             "colorbar": {
              "outlinewidth": 0,
              "ticks": ""
             }
            },
            "type": "scattermapbox"
           }
          ],
          "scatterpolar": [
           {
            "marker": {
             "colorbar": {
              "outlinewidth": 0,
              "ticks": ""
             }
            },
            "type": "scatterpolar"
           }
          ],
          "scatterpolargl": [
           {
            "marker": {
             "colorbar": {
              "outlinewidth": 0,
              "ticks": ""
             }
            },
            "type": "scatterpolargl"
           }
          ],
          "scatterternary": [
           {
            "marker": {
             "colorbar": {
              "outlinewidth": 0,
              "ticks": ""
             }
            },
            "type": "scatterternary"
           }
          ],
          "surface": [
           {
            "colorbar": {
             "outlinewidth": 0,
             "ticks": ""
            },
            "colorscale": [
             [
              0,
              "#0d0887"
             ],
             [
              0.1111111111111111,
              "#46039f"
             ],
             [
              0.2222222222222222,
              "#7201a8"
             ],
             [
              0.3333333333333333,
              "#9c179e"
             ],
             [
              0.4444444444444444,
              "#bd3786"
             ],
             [
              0.5555555555555556,
              "#d8576b"
             ],
             [
              0.6666666666666666,
              "#ed7953"
             ],
             [
              0.7777777777777778,
              "#fb9f3a"
             ],
             [
              0.8888888888888888,
              "#fdca26"
             ],
             [
              1,
              "#f0f921"
             ]
            ],
            "type": "surface"
           }
          ],
          "table": [
           {
            "cells": {
             "fill": {
              "color": "#EBF0F8"
             },
             "line": {
              "color": "white"
             }
            },
            "header": {
             "fill": {
              "color": "#C8D4E3"
             },
             "line": {
              "color": "white"
             }
            },
            "type": "table"
           }
          ]
         },
         "layout": {
          "annotationdefaults": {
           "arrowcolor": "#2a3f5f",
           "arrowhead": 0,
           "arrowwidth": 1
          },
          "autotypenumbers": "strict",
          "coloraxis": {
           "colorbar": {
            "outlinewidth": 0,
            "ticks": ""
           }
          },
          "colorscale": {
           "diverging": [
            [
             0,
             "#8e0152"
            ],
            [
             0.1,
             "#c51b7d"
            ],
            [
             0.2,
             "#de77ae"
            ],
            [
             0.3,
             "#f1b6da"
            ],
            [
             0.4,
             "#fde0ef"
            ],
            [
             0.5,
             "#f7f7f7"
            ],
            [
             0.6,
             "#e6f5d0"
            ],
            [
             0.7,
             "#b8e186"
            ],
            [
             0.8,
             "#7fbc41"
            ],
            [
             0.9,
             "#4d9221"
            ],
            [
             1,
             "#276419"
            ]
           ],
           "sequential": [
            [
             0,
             "#0d0887"
            ],
            [
             0.1111111111111111,
             "#46039f"
            ],
            [
             0.2222222222222222,
             "#7201a8"
            ],
            [
             0.3333333333333333,
             "#9c179e"
            ],
            [
             0.4444444444444444,
             "#bd3786"
            ],
            [
             0.5555555555555556,
             "#d8576b"
            ],
            [
             0.6666666666666666,
             "#ed7953"
            ],
            [
             0.7777777777777778,
             "#fb9f3a"
            ],
            [
             0.8888888888888888,
             "#fdca26"
            ],
            [
             1,
             "#f0f921"
            ]
           ],
           "sequentialminus": [
            [
             0,
             "#0d0887"
            ],
            [
             0.1111111111111111,
             "#46039f"
            ],
            [
             0.2222222222222222,
             "#7201a8"
            ],
            [
             0.3333333333333333,
             "#9c179e"
            ],
            [
             0.4444444444444444,
             "#bd3786"
            ],
            [
             0.5555555555555556,
             "#d8576b"
            ],
            [
             0.6666666666666666,
             "#ed7953"
            ],
            [
             0.7777777777777778,
             "#fb9f3a"
            ],
            [
             0.8888888888888888,
             "#fdca26"
            ],
            [
             1,
             "#f0f921"
            ]
           ]
          },
          "colorway": [
           "#636efa",
           "#EF553B",
           "#00cc96",
           "#ab63fa",
           "#FFA15A",
           "#19d3f3",
           "#FF6692",
           "#B6E880",
           "#FF97FF",
           "#FECB52"
          ],
          "font": {
           "color": "#2a3f5f"
          },
          "geo": {
           "bgcolor": "white",
           "lakecolor": "white",
           "landcolor": "#E5ECF6",
           "showlakes": true,
           "showland": true,
           "subunitcolor": "white"
          },
          "hoverlabel": {
           "align": "left"
          },
          "hovermode": "closest",
          "mapbox": {
           "style": "light"
          },
          "paper_bgcolor": "white",
          "plot_bgcolor": "#E5ECF6",
          "polar": {
           "angularaxis": {
            "gridcolor": "white",
            "linecolor": "white",
            "ticks": ""
           },
           "bgcolor": "#E5ECF6",
           "radialaxis": {
            "gridcolor": "white",
            "linecolor": "white",
            "ticks": ""
           }
          },
          "scene": {
           "xaxis": {
            "backgroundcolor": "#E5ECF6",
            "gridcolor": "white",
            "gridwidth": 2,
            "linecolor": "white",
            "showbackground": true,
            "ticks": "",
            "zerolinecolor": "white"
           },
           "yaxis": {
            "backgroundcolor": "#E5ECF6",
            "gridcolor": "white",
            "gridwidth": 2,
            "linecolor": "white",
            "showbackground": true,
            "ticks": "",
            "zerolinecolor": "white"
           },
           "zaxis": {
            "backgroundcolor": "#E5ECF6",
            "gridcolor": "white",
            "gridwidth": 2,
            "linecolor": "white",
            "showbackground": true,
            "ticks": "",
            "zerolinecolor": "white"
           }
          },
          "shapedefaults": {
           "line": {
            "color": "#2a3f5f"
           }
          },
          "ternary": {
           "aaxis": {
            "gridcolor": "white",
            "linecolor": "white",
            "ticks": ""
           },
           "baxis": {
            "gridcolor": "white",
            "linecolor": "white",
            "ticks": ""
           },
           "bgcolor": "#E5ECF6",
           "caxis": {
            "gridcolor": "white",
            "linecolor": "white",
            "ticks": ""
           }
          },
          "title": {
           "x": 0.05
          },
          "xaxis": {
           "automargin": true,
           "gridcolor": "white",
           "linecolor": "white",
           "ticks": "",
           "title": {
            "standoff": 15
           },
           "zerolinecolor": "white",
           "zerolinewidth": 2
          },
          "yaxis": {
           "automargin": true,
           "gridcolor": "white",
           "linecolor": "white",
           "ticks": "",
           "title": {
            "standoff": 15
           },
           "zerolinecolor": "white",
           "zerolinewidth": 2
          }
         }
        },
        "xaxis": {
         "anchor": "y",
         "domain": [
          0,
          1
         ],
         "title": {
          "text": "index"
         }
        },
        "yaxis": {
         "anchor": "x",
         "domain": [
          0,
          1
         ],
         "title": {
          "text": "Não Estacionária"
         }
        }
       }
      }
     },
     "metadata": {},
     "output_type": "display_data"
    }
   ],
   "source": [
    "px.line(df, df.index, 'Não Estacionária')"
   ]
  },
  {
   "cell_type": "code",
   "execution_count": 7,
   "id": "d983400c",
   "metadata": {},
   "outputs": [
    {
     "name": "stdout",
     "output_type": "stream",
     "text": [
      "lag:  0\n",
      "auto:  0.8165221946938584\n",
      "var:  0.8165221946938584\n",
      "auto:  6.737266619888378\n",
      "var:  6.737266619888378\n",
      "lag:  1\n",
      "auto:  -0.01756132203705909\n",
      "var:  0.8165221946938584\n",
      "auto:  6.260594447684851\n",
      "var:  6.737266619888378\n",
      "lag:  2\n",
      "auto:  -0.03323474989471234\n",
      "var:  0.8165221946938584\n",
      "auto:  5.8481316883613\n",
      "var:  6.737266619888378\n",
      "lag:  3\n",
      "auto:  -0.01856478916202246\n",
      "var:  0.8165221946938584\n",
      "auto:  5.475873000712662\n",
      "var:  6.737266619888378\n",
      "lag:  4\n",
      "auto:  -0.044770631948214824\n",
      "var:  0.8165221946938584\n",
      "auto:  5.081330334931988\n",
      "var:  6.737266619888378\n",
      "lag:  5\n",
      "auto:  0.15849138700346882\n",
      "var:  0.8165221946938584\n",
      "auto:  4.843733774984704\n",
      "var:  6.737266619888378\n",
      "lag:  6\n",
      "auto:  -0.01842422218091736\n",
      "var:  0.8165221946938584\n",
      "auto:  4.613339928954355\n",
      "var:  6.737266619888378\n",
      "lag:  7\n",
      "auto:  -0.0006308560344241075\n",
      "var:  0.8165221946938584\n",
      "auto:  4.311205003536335\n",
      "var:  6.737266619888378\n",
      "lag:  8\n",
      "auto:  -0.10263505384816585\n",
      "var:  0.8165221946938584\n",
      "auto:  3.933870044725866\n",
      "var:  6.737266619888378\n",
      "lag:  9\n",
      "auto:  0.0005715787853964163\n",
      "var:  0.8165221946938584\n",
      "auto:  3.5989936987698137\n",
      "var:  6.737266619888378\n",
      "lag:  10\n",
      "auto:  -0.07753645717026549\n",
      "var:  0.8165221946938584\n",
      "auto:  3.360356150603374\n",
      "var:  6.737266619888378\n",
      "lag:  11\n",
      "auto:  0.11733458888917685\n",
      "var:  0.8165221946938584\n",
      "auto:  3.1088504979960367\n",
      "var:  6.737266619888378\n",
      "lag:  12\n",
      "auto:  -0.032533476842859364\n",
      "var:  0.8165221946938584\n",
      "auto:  2.788887455752828\n",
      "var:  6.737266619888378\n",
      "lag:  13\n",
      "auto:  -0.094581324892647\n",
      "var:  0.8165221946938584\n",
      "auto:  2.41543686724042\n",
      "var:  6.737266619888378\n",
      "lag:  14\n",
      "auto:  0.1383448864691389\n",
      "var:  0.8165221946938584\n",
      "auto:  1.9190789851495376\n",
      "var:  6.737266619888378\n",
      "lag:  15\n",
      "auto:  -0.10018845057659923\n",
      "var:  0.8165221946938584\n",
      "auto:  1.5977590642049777\n",
      "var:  6.737266619888378\n",
      "lag:  16\n",
      "auto:  0.04027772182577539\n",
      "var:  0.8165221946938584\n",
      "auto:  1.3764941656357874\n",
      "var:  6.737266619888378\n",
      "lag:  17\n",
      "auto:  -0.05119099509292988\n",
      "var:  0.8165221946938584\n",
      "auto:  1.020272620707914\n",
      "var:  6.737266619888378\n",
      "lag:  18\n",
      "auto:  0.028302215158356292\n",
      "var:  0.8165221946938584\n",
      "auto:  0.7748272237453933\n",
      "var:  6.737266619888378\n",
      "lag:  19\n",
      "auto:  0.051586522011634724\n",
      "var:  0.8165221946938584\n",
      "auto:  0.45182410895724845\n",
      "var:  6.737266619888378\n",
      "lag:  20\n",
      "auto:  -0.053162501814033175\n",
      "var:  0.8165221946938584\n",
      "auto:  0.10134968701055456\n",
      "var:  6.737266619888378\n",
      "lag:  21\n",
      "auto:  -0.03687212991235387\n",
      "var:  0.8165221946938584\n",
      "auto:  -0.1609126720111267\n",
      "var:  6.737266619888378\n",
      "lag:  22\n",
      "auto:  -0.019689794379543473\n",
      "var:  0.8165221946938584\n",
      "auto:  -0.3971585650674392\n",
      "var:  6.737266619888378\n",
      "lag:  23\n",
      "auto:  0.06260931536144479\n",
      "var:  0.8165221946938584\n",
      "auto:  -0.5350617106525507\n",
      "var:  6.737266619888378\n",
      "lag:  24\n",
      "auto:  -0.03122113014273256\n",
      "var:  0.8165221946938584\n",
      "auto:  -0.7237546142211305\n",
      "var:  6.737266619888378\n",
      "lag:  25\n",
      "auto:  0.11930767225545809\n",
      "var:  0.8165221946938584\n",
      "auto:  -0.8884535248013421\n",
      "var:  6.737266619888378\n",
      "lag:  26\n",
      "auto:  -0.048273971913039136\n",
      "var:  0.8165221946938584\n",
      "auto:  -0.9100894578100137\n",
      "var:  6.737266619888378\n",
      "lag:  27\n",
      "auto:  -0.0435324306598138\n",
      "var:  0.8165221946938584\n",
      "auto:  -0.968062079210611\n",
      "var:  6.737266619888378\n",
      "lag:  28\n",
      "auto:  0.046952117159343186\n",
      "var:  0.8165221946938584\n",
      "auto:  -0.9882236118100386\n",
      "var:  6.737266619888378\n",
      "lag:  29\n",
      "auto:  -0.11027027791154069\n",
      "var:  0.8165221946938584\n",
      "auto:  -0.9579184941772706\n",
      "var:  6.737266619888378\n",
      "lag:  30\n",
      "auto:  0.022030810108713786\n",
      "var:  0.8165221946938584\n",
      "auto:  -1.0506236812685839\n",
      "var:  6.737266619888378\n",
      "lag:  31\n",
      "auto:  -0.019178868062076276\n",
      "var:  0.8165221946938584\n",
      "auto:  -1.1741457221289586\n",
      "var:  6.737266619888378\n",
      "lag:  32\n",
      "auto:  -0.03902272318781095\n",
      "var:  0.8165221946938584\n",
      "auto:  -1.3099022653299355\n",
      "var:  6.737266619888378\n",
      "lag:  33\n",
      "auto:  0.04140781108866851\n",
      "var:  0.8165221946938584\n",
      "auto:  -1.4899446910728997\n",
      "var:  6.737266619888378\n",
      "lag:  34\n",
      "auto:  -0.010064301497434393\n",
      "var:  0.8165221946938584\n",
      "auto:  -1.4438334705036882\n",
      "var:  6.737266619888378\n",
      "lag:  35\n",
      "auto:  -0.032973395605644114\n",
      "var:  0.8165221946938584\n",
      "auto:  -1.393705979095282\n",
      "var:  6.737266619888378\n",
      "lag:  36\n",
      "auto:  0.002300956014113202\n",
      "var:  0.8165221946938584\n",
      "auto:  -1.2999419917430304\n",
      "var:  6.737266619888378\n",
      "lag:  37\n",
      "auto:  0.00633075925856722\n",
      "var:  0.8165221946938584\n",
      "auto:  -1.2317590619529377\n",
      "var:  6.737266619888378\n",
      "lag:  38\n",
      "auto:  -0.09161856384947796\n",
      "var:  0.8165221946938584\n",
      "auto:  -1.1688437933091407\n",
      "var:  6.737266619888378\n",
      "lag:  39\n",
      "auto:  0.056876478299365416\n",
      "var:  0.8165221946938584\n",
      "auto:  -1.0613918499292974\n",
      "var:  6.737266619888378\n",
      "lag:  40\n",
      "auto:  -0.08822082886220564\n",
      "var:  0.8165221946938584\n",
      "auto:  -0.9966013839120706\n",
      "var:  6.737266619888378\n",
      "lag:  41\n",
      "auto:  -0.008956948672219255\n",
      "var:  0.8165221946938584\n",
      "auto:  -0.8670081685028862\n",
      "var:  6.737266619888378\n",
      "lag:  42\n",
      "auto:  -0.02282407830570356\n",
      "var:  0.8165221946938584\n",
      "auto:  -0.6986978773016252\n",
      "var:  6.737266619888378\n",
      "lag:  43\n",
      "auto:  -0.0928749479916271\n",
      "var:  0.8165221946938584\n",
      "auto:  -0.7065586710989034\n",
      "var:  6.737266619888378\n",
      "lag:  44\n",
      "auto:  0.05793434441868722\n",
      "var:  0.8165221946938584\n",
      "auto:  -0.7176539432701246\n",
      "var:  6.737266619888378\n",
      "lag:  45\n",
      "auto:  -0.09170726689614701\n",
      "var:  0.8165221946938584\n",
      "auto:  -0.7324315329332791\n",
      "var:  6.737266619888378\n",
      "lag:  46\n",
      "auto:  0.015675616820486304\n",
      "var:  0.8165221946938584\n",
      "auto:  -0.6692004361552562\n",
      "var:  6.737266619888378\n",
      "lag:  47\n",
      "auto:  -0.010611892716158994\n",
      "var:  0.8165221946938584\n",
      "auto:  -0.6194021855329785\n",
      "var:  6.737266619888378\n",
      "lag:  48\n",
      "auto:  0.009103262675115527\n",
      "var:  0.8165221946938584\n",
      "auto:  -0.5456962934730162\n",
      "var:  6.737266619888378\n",
      "lag:  49\n",
      "auto:  -0.046599989394941074\n",
      "var:  0.8165221946938584\n",
      "auto:  -0.5050277878124297\n",
      "var:  6.737266619888378\n",
      "lag:  50\n",
      "auto:  0.03663228760806037\n",
      "var:  0.8165221946938584\n",
      "auto:  -0.4119719134846573\n",
      "var:  6.737266619888378\n",
      "lag:  51\n",
      "auto:  0.08229564060700882\n",
      "var:  0.8165221946938584\n",
      "auto:  -0.3357706274748349\n",
      "var:  6.737266619888378\n",
      "lag:  52\n",
      "auto:  -0.07548831796434109\n",
      "var:  0.8165221946938584\n",
      "auto:  -0.2627812417568591\n",
      "var:  6.737266619888378\n",
      "lag:  53\n",
      "auto:  -0.008876615711753381\n",
      "var:  0.8165221946938584\n",
      "auto:  -0.18557823821940214\n",
      "var:  6.737266619888378\n",
      "lag:  54\n",
      "auto:  -0.1529681863412008\n",
      "var:  0.8165221946938584\n",
      "auto:  -0.13174292715728417\n",
      "var:  6.737266619888378\n",
      "lag:  55\n",
      "auto:  0.07536851592904066\n",
      "var:  0.8165221946938584\n",
      "auto:  -0.1485348884172939\n",
      "var:  6.737266619888378\n",
      "lag:  56\n",
      "auto:  0.012456822467192177\n",
      "var:  0.8165221946938584\n",
      "auto:  -0.20803228250305367\n",
      "var:  6.737266619888378\n",
      "lag:  57\n",
      "auto:  -0.06395896974658209\n",
      "var:  0.8165221946938584\n",
      "auto:  -0.15557396919720803\n",
      "var:  6.737266619888378\n",
      "lag:  58\n",
      "auto:  0.04020458145162326\n",
      "var:  0.8165221946938584\n",
      "auto:  -0.1012985038484202\n",
      "var:  6.737266619888378\n",
      "lag:  59\n",
      "auto:  -0.055427673001790446\n",
      "var:  0.8165221946938584\n",
      "auto:  -0.06158464581044667\n",
      "var:  6.737266619888378\n",
      "lag:  60\n",
      "auto:  0.02110483768017577\n",
      "var:  0.8165221946938584\n",
      "auto:  -0.06611883264880639\n",
      "var:  6.737266619888378\n",
      "lag:  61\n",
      "auto:  0.057797785109405996\n",
      "var:  0.8165221946938584\n",
      "auto:  -0.16955954827143416\n",
      "var:  6.737266619888378\n",
      "lag:  62\n",
      "auto:  0.030785002874651954\n",
      "var:  0.8165221946938584\n",
      "auto:  -0.3631276110124632\n",
      "var:  6.737266619888378\n",
      "lag:  63\n",
      "auto:  -0.05082680482903794\n",
      "var:  0.8165221946938584\n",
      "auto:  -0.5066304771871929\n",
      "var:  6.737266619888378\n",
      "lag:  64\n",
      "auto:  0.03634207951049343\n",
      "var:  0.8165221946938584\n",
      "auto:  -0.6314382316125512\n",
      "var:  6.737266619888378\n",
      "lag:  65\n",
      "auto:  0.06524333810904917\n",
      "var:  0.8165221946938584\n",
      "auto:  -0.6992328842665019\n",
      "var:  6.737266619888378\n",
      "lag:  66\n",
      "auto:  0.07560565229340852\n",
      "var:  0.8165221946938584\n",
      "auto:  -0.6883409737709356\n",
      "var:  6.737266619888378\n",
      "lag:  67\n",
      "auto:  -0.009825995558130069\n",
      "var:  0.8165221946938584\n",
      "auto:  -0.7667653986840988\n",
      "var:  6.737266619888378\n",
      "lag:  68\n",
      "auto:  -0.06917378181743568\n",
      "var:  0.8165221946938584\n",
      "auto:  -0.8446119930411627\n",
      "var:  6.737266619888378\n",
      "lag:  69\n",
      "auto:  0.0647842772343679\n",
      "var:  0.8165221946938584\n",
      "auto:  -0.9009600142239178\n",
      "var:  6.737266619888378\n",
      "lag:  70\n",
      "auto:  0.03282824932962663\n",
      "var:  0.8165221946938584\n",
      "auto:  -0.924112825165807\n",
      "var:  6.737266619888378\n",
      "lag:  71\n",
      "auto:  0.0021436798543792174\n",
      "var:  0.8165221946938584\n",
      "auto:  -1.0060123537100503\n",
      "var:  6.737266619888378\n",
      "lag:  72\n",
      "auto:  -0.03524853230005137\n",
      "var:  0.8165221946938584\n",
      "auto:  -1.1084809680256782\n",
      "var:  6.737266619888378\n",
      "lag:  73\n",
      "auto:  -0.040410239429597816\n",
      "var:  0.8165221946938584\n",
      "auto:  -1.2805515399162277\n",
      "var:  6.737266619888378\n",
      "lag:  74\n",
      "auto:  -0.01498330949734297\n",
      "var:  0.8165221946938584\n",
      "auto:  -1.5326980455314265\n",
      "var:  6.737266619888378\n",
      "lag:  75\n",
      "auto:  -0.004408769180363124\n",
      "var:  0.8165221946938584\n",
      "auto:  -1.7358132260556907\n",
      "var:  6.737266619888378\n",
      "lag:  76\n",
      "auto:  0.0009167508560277182\n",
      "var:  0.8165221946938584\n",
      "auto:  -1.8268288509236368\n",
      "var:  6.737266619888378\n",
      "lag:  77\n",
      "auto:  -0.029272126221360793\n",
      "var:  0.8165221946938584\n",
      "auto:  -1.8424601826292268\n",
      "var:  6.737266619888378\n",
      "lag:  78\n",
      "auto:  -0.02720167657403023\n",
      "var:  0.8165221946938584\n",
      "auto:  -1.805023021976309\n",
      "var:  6.737266619888378\n",
      "lag:  79\n",
      "auto:  0.04138679218234992\n",
      "var:  0.8165221946938584\n",
      "auto:  -1.7819193987595119\n",
      "var:  6.737266619888378\n",
      "lag:  80\n",
      "auto:  0.03920575397658606\n",
      "var:  0.8165221946938584\n",
      "auto:  -1.7690723004154847\n",
      "var:  6.737266619888378\n",
      "lag:  81\n",
      "auto:  0.010596589998189425\n",
      "var:  0.8165221946938584\n",
      "auto:  -1.7148978469291387\n",
      "var:  6.737266619888378\n",
      "lag:  82\n",
      "auto:  0.017260160380939353\n",
      "var:  0.8165221946938584\n",
      "auto:  -1.6402842473271182\n",
      "var:  6.737266619888378\n",
      "lag:  83\n",
      "auto:  0.0003677266250765611\n",
      "var:  0.8165221946938584\n",
      "auto:  -1.5693797099377063\n",
      "var:  6.737266619888378\n",
      "lag:  84\n",
      "auto:  0.02339088391380343\n",
      "var:  0.8165221946938584\n",
      "auto:  -1.4685984149710438\n",
      "var:  6.737266619888378\n",
      "lag:  85\n",
      "auto:  0.009160472552492825\n",
      "var:  0.8165221946938584\n",
      "auto:  -1.355586206999217\n",
      "var:  6.737266619888378\n",
      "lag:  86\n",
      "auto:  -0.008617547446285066\n",
      "var:  0.8165221946938584\n",
      "auto:  -1.2372441562935417\n",
      "var:  6.737266619888378\n",
      "lag:  87\n",
      "auto:  0.009152807921007549\n",
      "var:  0.8165221946938584\n",
      "auto:  -1.1204914923150107\n",
      "var:  6.737266619888378\n",
      "lag:  88\n",
      "auto:  0.001538521612367601\n",
      "var:  0.8165221946938584\n",
      "auto:  -0.9607104395050773\n",
      "var:  6.737266619888378\n",
      "lag:  89\n",
      "auto:  -0.016926660670035\n",
      "var:  0.8165221946938584\n",
      "auto:  -0.8166354920367728\n",
      "var:  6.737266619888378\n",
      "lag:  90\n",
      "auto:  0.003515245421700914\n",
      "var:  0.8165221946938584\n",
      "auto:  -0.7367731571199602\n",
      "var:  6.737266619888378\n",
      "lag:  91\n",
      "auto:  0.009094646556900017\n",
      "var:  0.8165221946938584\n",
      "auto:  -0.6834779361804912\n",
      "var:  6.737266619888378\n",
      "lag:  92\n",
      "auto:  -0.028103946514968742\n",
      "var:  0.8165221946938584\n",
      "auto:  -0.6086614847120834\n",
      "var:  6.737266619888378\n",
      "lag:  93\n",
      "auto:  -0.007774253612712537\n",
      "var:  0.8165221946938584\n",
      "auto:  -0.5281904981506585\n",
      "var:  6.737266619888378\n",
      "lag:  94\n",
      "auto:  0.007707533606647791\n",
      "var:  0.8165221946938584\n",
      "auto:  -0.4585150919139366\n",
      "var:  6.737266619888378\n",
      "lag:  95\n",
      "auto:  -0.003617920620211074\n",
      "var:  0.8165221946938584\n",
      "auto:  -0.3561677211510397\n",
      "var:  6.737266619888378\n",
      "lag:  96\n",
      "auto:  0.0009683363622489927\n",
      "var:  0.8165221946938584\n",
      "auto:  -0.2441012198455865\n",
      "var:  6.737266619888378\n",
      "lag:  97\n",
      "auto:  0.0011713934646516392\n",
      "var:  0.8165221946938584\n",
      "auto:  -0.16337788236946638\n",
      "var:  6.737266619888378\n",
      "lag:  98\n",
      "auto:  0.0006993687730645986\n",
      "var:  0.8165221946938584\n",
      "auto:  -0.09290023882622847\n",
      "var:  6.737266619888378\n"
     ]
    }
   ],
   "source": [
    "stationary = []\n",
    "non_stationary = []\n",
    "for lag in range(df['Estacionária'].count()-1):\n",
    "    print('lag: ', lag)\n",
    "    stationary.append(autocorrelation(df, 'Estacionária', lag))\n",
    "    non_stationary.append(autocorrelation(df, 'Não Estacionária', lag))\n",
    "\n",
    "correlation_df = pd.DataFrame({'stationary': stationary, 'non_stationary': non_stationary})"
   ]
  },
  {
   "cell_type": "code",
   "execution_count": 8,
   "id": "d47aa9a6",
   "metadata": {},
   "outputs": [
    {
     "data": {
      "text/html": [
       "<div>\n",
       "<style scoped>\n",
       "    .dataframe tbody tr th:only-of-type {\n",
       "        vertical-align: middle;\n",
       "    }\n",
       "\n",
       "    .dataframe tbody tr th {\n",
       "        vertical-align: top;\n",
       "    }\n",
       "\n",
       "    .dataframe thead th {\n",
       "        text-align: right;\n",
       "    }\n",
       "</style>\n",
       "<table border=\"1\" class=\"dataframe\">\n",
       "  <thead>\n",
       "    <tr style=\"text-align: right;\">\n",
       "      <th></th>\n",
       "      <th>stationary</th>\n",
       "      <th>non_stationary</th>\n",
       "    </tr>\n",
       "  </thead>\n",
       "  <tbody>\n",
       "    <tr>\n",
       "      <th>0</th>\n",
       "      <td>1.000000</td>\n",
       "      <td>1.000000</td>\n",
       "    </tr>\n",
       "    <tr>\n",
       "      <th>1</th>\n",
       "      <td>-0.021507</td>\n",
       "      <td>0.929248</td>\n",
       "    </tr>\n",
       "    <tr>\n",
       "      <th>2</th>\n",
       "      <td>-0.040703</td>\n",
       "      <td>0.868027</td>\n",
       "    </tr>\n",
       "    <tr>\n",
       "      <th>3</th>\n",
       "      <td>-0.022736</td>\n",
       "      <td>0.812774</td>\n",
       "    </tr>\n",
       "    <tr>\n",
       "      <th>4</th>\n",
       "      <td>-0.054831</td>\n",
       "      <td>0.754212</td>\n",
       "    </tr>\n",
       "    <tr>\n",
       "      <th>...</th>\n",
       "      <td>...</td>\n",
       "      <td>...</td>\n",
       "    </tr>\n",
       "    <tr>\n",
       "      <th>94</th>\n",
       "      <td>0.009439</td>\n",
       "      <td>-0.068057</td>\n",
       "    </tr>\n",
       "    <tr>\n",
       "      <th>95</th>\n",
       "      <td>-0.004431</td>\n",
       "      <td>-0.052865</td>\n",
       "    </tr>\n",
       "    <tr>\n",
       "      <th>96</th>\n",
       "      <td>0.001186</td>\n",
       "      <td>-0.036231</td>\n",
       "    </tr>\n",
       "    <tr>\n",
       "      <th>97</th>\n",
       "      <td>0.001435</td>\n",
       "      <td>-0.024250</td>\n",
       "    </tr>\n",
       "    <tr>\n",
       "      <th>98</th>\n",
       "      <td>0.000857</td>\n",
       "      <td>-0.013789</td>\n",
       "    </tr>\n",
       "  </tbody>\n",
       "</table>\n",
       "<p>99 rows × 2 columns</p>\n",
       "</div>"
      ],
      "text/plain": [
       "    stationary  non_stationary\n",
       "0     1.000000        1.000000\n",
       "1    -0.021507        0.929248\n",
       "2    -0.040703        0.868027\n",
       "3    -0.022736        0.812774\n",
       "4    -0.054831        0.754212\n",
       "..         ...             ...\n",
       "94    0.009439       -0.068057\n",
       "95   -0.004431       -0.052865\n",
       "96    0.001186       -0.036231\n",
       "97    0.001435       -0.024250\n",
       "98    0.000857       -0.013789\n",
       "\n",
       "[99 rows x 2 columns]"
      ]
     },
     "execution_count": 8,
     "metadata": {},
     "output_type": "execute_result"
    }
   ],
   "source": [
    "correlation_df"
   ]
  },
  {
   "cell_type": "code",
   "execution_count": 9,
   "id": "638742ee",
   "metadata": {},
   "outputs": [
    {
     "data": {
      "application/vnd.plotly.v1+json": {
       "config": {
        "plotlyServerURL": "https://plot.ly"
       },
       "data": [
        {
         "hovertemplate": "index=%{x}<br>stationary=%{y}<extra></extra>",
         "legendgroup": "",
         "marker": {
          "color": "#636efa",
          "symbol": "circle"
         },
         "mode": "markers",
         "name": "",
         "orientation": "v",
         "showlegend": false,
         "type": "scatter",
         "x": [
          0,
          1,
          2,
          3,
          4,
          5,
          6,
          7,
          8,
          9,
          10,
          11,
          12,
          13,
          14,
          15,
          16,
          17,
          18,
          19,
          20,
          21,
          22,
          23,
          24,
          25,
          26,
          27,
          28,
          29,
          30,
          31,
          32,
          33,
          34,
          35,
          36,
          37,
          38,
          39,
          40,
          41,
          42,
          43,
          44,
          45,
          46,
          47,
          48,
          49,
          50,
          51,
          52,
          53,
          54,
          55,
          56,
          57,
          58,
          59,
          60,
          61,
          62,
          63,
          64,
          65,
          66,
          67,
          68,
          69,
          70,
          71,
          72,
          73,
          74,
          75,
          76,
          77,
          78,
          79,
          80,
          81,
          82,
          83,
          84,
          85,
          86,
          87,
          88,
          89,
          90,
          91,
          92,
          93,
          94,
          95,
          96,
          97,
          98
         ],
         "xaxis": "x",
         "y": [
          1,
          -0.021507464403516207,
          -0.04070281262491972,
          -0.022736417065776175,
          -0.054830881804750986,
          0.19410542424127558,
          -0.022564263777085963,
          -0.000772613455609295,
          -0.12569781264384022,
          0.0007000162262713757,
          -0.09495939935758452,
          0.14370042804919653,
          -0.03984395899373838,
          -0.11583435882977892,
          0.16943187505271554,
          -0.12270144183179642,
          0.049328385789778634,
          -0.06269394197193023,
          0.03466190550884871,
          0.06317834634118702,
          -0.06510845897332354,
          -0.04515753540071065,
          -0.024114218214148896,
          0.07667803247518473,
          -0.03823671952290092,
          0.1461168759781117,
          -0.05912144486303727,
          -0.05331444869803639,
          0.05750256081764821,
          -0.13504872081632113,
          0.026981275281774644,
          -0.023488483456676982,
          -0.04779138086067811,
          0.05071241340132057,
          -0.012325814978254005,
          -0.04038273034085368,
          0.00281799567613212,
          0.007753321709694411,
          -0.11220584626463073,
          0.06965698993729168,
          -0.10804461830371015,
          -0.0109696328286306,
          -0.027952795960752876,
          -0.11374454802964545,
          0.07095256539892189,
          -0.11231448145819373,
          0.019198029058308228,
          -0.012996453476855884,
          0.011148824531987947,
          -0.05707130767267505,
          0.04486379898319242,
          0.10078800201856633,
          -0.09245103005760204,
          -0.01087124853364399,
          -0.18734112475479456,
          0.09230430773201315,
          0.015255950846336342,
          -0.07833096290856179,
          0.04923881030165666,
          -0.06788262874173571,
          0.02584723087421853,
          0.07078532033177166,
          0.03770259164381231,
          -0.06224791580600526,
          0.044508379253694746,
          0.07990393712875261,
          0.09259473016744586,
          -0.01203396015685056,
          -0.08471757689743051,
          0.07934172231369375,
          0.0402049687601389,
          0.002625378548568364,
          -0.043169104929557035,
          -0.0494906809541766,
          -0.018350155812924002,
          -0.005399448060338543,
          0.0011227506882056512,
          -0.0358497618455257,
          -0.03331406880400728,
          0.050686671411139306,
          0.048015539848596044,
          0.01297771213942622,
          0.021138629780187133,
          0.00045035717028418825,
          0.02864696644599288,
          0.011218889837927055,
          -0.010553965957430066,
          0.011209502914295236,
          0.0018842373451274578,
          -0.020730190532519906,
          0.004305143748136445,
          0.011138272316418668,
          -0.034419084622073076,
          -0.009521178558566146,
          0.009439466136664666,
          -0.004430890726206841,
          0.00118592779050183,
          0.00143461313392814,
          0.0008565214486629055
         ],
         "yaxis": "y"
        }
       ],
       "layout": {
        "legend": {
         "tracegroupgap": 0
        },
        "margin": {
         "t": 60
        },
        "template": {
         "data": {
          "bar": [
           {
            "error_x": {
             "color": "#2a3f5f"
            },
            "error_y": {
             "color": "#2a3f5f"
            },
            "marker": {
             "line": {
              "color": "#E5ECF6",
              "width": 0.5
             },
             "pattern": {
              "fillmode": "overlay",
              "size": 10,
              "solidity": 0.2
             }
            },
            "type": "bar"
           }
          ],
          "barpolar": [
           {
            "marker": {
             "line": {
              "color": "#E5ECF6",
              "width": 0.5
             },
             "pattern": {
              "fillmode": "overlay",
              "size": 10,
              "solidity": 0.2
             }
            },
            "type": "barpolar"
           }
          ],
          "carpet": [
           {
            "aaxis": {
             "endlinecolor": "#2a3f5f",
             "gridcolor": "white",
             "linecolor": "white",
             "minorgridcolor": "white",
             "startlinecolor": "#2a3f5f"
            },
            "baxis": {
             "endlinecolor": "#2a3f5f",
             "gridcolor": "white",
             "linecolor": "white",
             "minorgridcolor": "white",
             "startlinecolor": "#2a3f5f"
            },
            "type": "carpet"
           }
          ],
          "choropleth": [
           {
            "colorbar": {
             "outlinewidth": 0,
             "ticks": ""
            },
            "type": "choropleth"
           }
          ],
          "contour": [
           {
            "colorbar": {
             "outlinewidth": 0,
             "ticks": ""
            },
            "colorscale": [
             [
              0,
              "#0d0887"
             ],
             [
              0.1111111111111111,
              "#46039f"
             ],
             [
              0.2222222222222222,
              "#7201a8"
             ],
             [
              0.3333333333333333,
              "#9c179e"
             ],
             [
              0.4444444444444444,
              "#bd3786"
             ],
             [
              0.5555555555555556,
              "#d8576b"
             ],
             [
              0.6666666666666666,
              "#ed7953"
             ],
             [
              0.7777777777777778,
              "#fb9f3a"
             ],
             [
              0.8888888888888888,
              "#fdca26"
             ],
             [
              1,
              "#f0f921"
             ]
            ],
            "type": "contour"
           }
          ],
          "contourcarpet": [
           {
            "colorbar": {
             "outlinewidth": 0,
             "ticks": ""
            },
            "type": "contourcarpet"
           }
          ],
          "heatmap": [
           {
            "colorbar": {
             "outlinewidth": 0,
             "ticks": ""
            },
            "colorscale": [
             [
              0,
              "#0d0887"
             ],
             [
              0.1111111111111111,
              "#46039f"
             ],
             [
              0.2222222222222222,
              "#7201a8"
             ],
             [
              0.3333333333333333,
              "#9c179e"
             ],
             [
              0.4444444444444444,
              "#bd3786"
             ],
             [
              0.5555555555555556,
              "#d8576b"
             ],
             [
              0.6666666666666666,
              "#ed7953"
             ],
             [
              0.7777777777777778,
              "#fb9f3a"
             ],
             [
              0.8888888888888888,
              "#fdca26"
             ],
             [
              1,
              "#f0f921"
             ]
            ],
            "type": "heatmap"
           }
          ],
          "heatmapgl": [
           {
            "colorbar": {
             "outlinewidth": 0,
             "ticks": ""
            },
            "colorscale": [
             [
              0,
              "#0d0887"
             ],
             [
              0.1111111111111111,
              "#46039f"
             ],
             [
              0.2222222222222222,
              "#7201a8"
             ],
             [
              0.3333333333333333,
              "#9c179e"
             ],
             [
              0.4444444444444444,
              "#bd3786"
             ],
             [
              0.5555555555555556,
              "#d8576b"
             ],
             [
              0.6666666666666666,
              "#ed7953"
             ],
             [
              0.7777777777777778,
              "#fb9f3a"
             ],
             [
              0.8888888888888888,
              "#fdca26"
             ],
             [
              1,
              "#f0f921"
             ]
            ],
            "type": "heatmapgl"
           }
          ],
          "histogram": [
           {
            "marker": {
             "pattern": {
              "fillmode": "overlay",
              "size": 10,
              "solidity": 0.2
             }
            },
            "type": "histogram"
           }
          ],
          "histogram2d": [
           {
            "colorbar": {
             "outlinewidth": 0,
             "ticks": ""
            },
            "colorscale": [
             [
              0,
              "#0d0887"
             ],
             [
              0.1111111111111111,
              "#46039f"
             ],
             [
              0.2222222222222222,
              "#7201a8"
             ],
             [
              0.3333333333333333,
              "#9c179e"
             ],
             [
              0.4444444444444444,
              "#bd3786"
             ],
             [
              0.5555555555555556,
              "#d8576b"
             ],
             [
              0.6666666666666666,
              "#ed7953"
             ],
             [
              0.7777777777777778,
              "#fb9f3a"
             ],
             [
              0.8888888888888888,
              "#fdca26"
             ],
             [
              1,
              "#f0f921"
             ]
            ],
            "type": "histogram2d"
           }
          ],
          "histogram2dcontour": [
           {
            "colorbar": {
             "outlinewidth": 0,
             "ticks": ""
            },
            "colorscale": [
             [
              0,
              "#0d0887"
             ],
             [
              0.1111111111111111,
              "#46039f"
             ],
             [
              0.2222222222222222,
              "#7201a8"
             ],
             [
              0.3333333333333333,
              "#9c179e"
             ],
             [
              0.4444444444444444,
              "#bd3786"
             ],
             [
              0.5555555555555556,
              "#d8576b"
             ],
             [
              0.6666666666666666,
              "#ed7953"
             ],
             [
              0.7777777777777778,
              "#fb9f3a"
             ],
             [
              0.8888888888888888,
              "#fdca26"
             ],
             [
              1,
              "#f0f921"
             ]
            ],
            "type": "histogram2dcontour"
           }
          ],
          "mesh3d": [
           {
            "colorbar": {
             "outlinewidth": 0,
             "ticks": ""
            },
            "type": "mesh3d"
           }
          ],
          "parcoords": [
           {
            "line": {
             "colorbar": {
              "outlinewidth": 0,
              "ticks": ""
             }
            },
            "type": "parcoords"
           }
          ],
          "pie": [
           {
            "automargin": true,
            "type": "pie"
           }
          ],
          "scatter": [
           {
            "fillpattern": {
             "fillmode": "overlay",
             "size": 10,
             "solidity": 0.2
            },
            "type": "scatter"
           }
          ],
          "scatter3d": [
           {
            "line": {
             "colorbar": {
              "outlinewidth": 0,
              "ticks": ""
             }
            },
            "marker": {
             "colorbar": {
              "outlinewidth": 0,
              "ticks": ""
             }
            },
            "type": "scatter3d"
           }
          ],
          "scattercarpet": [
           {
            "marker": {
             "colorbar": {
              "outlinewidth": 0,
              "ticks": ""
             }
            },
            "type": "scattercarpet"
           }
          ],
          "scattergeo": [
           {
            "marker": {
             "colorbar": {
              "outlinewidth": 0,
              "ticks": ""
             }
            },
            "type": "scattergeo"
           }
          ],
          "scattergl": [
           {
            "marker": {
             "colorbar": {
              "outlinewidth": 0,
              "ticks": ""
             }
            },
            "type": "scattergl"
           }
          ],
          "scattermapbox": [
           {
            "marker": {
             "colorbar": {
              "outlinewidth": 0,
              "ticks": ""
             }
            },
            "type": "scattermapbox"
           }
          ],
          "scatterpolar": [
           {
            "marker": {
             "colorbar": {
              "outlinewidth": 0,
              "ticks": ""
             }
            },
            "type": "scatterpolar"
           }
          ],
          "scatterpolargl": [
           {
            "marker": {
             "colorbar": {
              "outlinewidth": 0,
              "ticks": ""
             }
            },
            "type": "scatterpolargl"
           }
          ],
          "scatterternary": [
           {
            "marker": {
             "colorbar": {
              "outlinewidth": 0,
              "ticks": ""
             }
            },
            "type": "scatterternary"
           }
          ],
          "surface": [
           {
            "colorbar": {
             "outlinewidth": 0,
             "ticks": ""
            },
            "colorscale": [
             [
              0,
              "#0d0887"
             ],
             [
              0.1111111111111111,
              "#46039f"
             ],
             [
              0.2222222222222222,
              "#7201a8"
             ],
             [
              0.3333333333333333,
              "#9c179e"
             ],
             [
              0.4444444444444444,
              "#bd3786"
             ],
             [
              0.5555555555555556,
              "#d8576b"
             ],
             [
              0.6666666666666666,
              "#ed7953"
             ],
             [
              0.7777777777777778,
              "#fb9f3a"
             ],
             [
              0.8888888888888888,
              "#fdca26"
             ],
             [
              1,
              "#f0f921"
             ]
            ],
            "type": "surface"
           }
          ],
          "table": [
           {
            "cells": {
             "fill": {
              "color": "#EBF0F8"
             },
             "line": {
              "color": "white"
             }
            },
            "header": {
             "fill": {
              "color": "#C8D4E3"
             },
             "line": {
              "color": "white"
             }
            },
            "type": "table"
           }
          ]
         },
         "layout": {
          "annotationdefaults": {
           "arrowcolor": "#2a3f5f",
           "arrowhead": 0,
           "arrowwidth": 1
          },
          "autotypenumbers": "strict",
          "coloraxis": {
           "colorbar": {
            "outlinewidth": 0,
            "ticks": ""
           }
          },
          "colorscale": {
           "diverging": [
            [
             0,
             "#8e0152"
            ],
            [
             0.1,
             "#c51b7d"
            ],
            [
             0.2,
             "#de77ae"
            ],
            [
             0.3,
             "#f1b6da"
            ],
            [
             0.4,
             "#fde0ef"
            ],
            [
             0.5,
             "#f7f7f7"
            ],
            [
             0.6,
             "#e6f5d0"
            ],
            [
             0.7,
             "#b8e186"
            ],
            [
             0.8,
             "#7fbc41"
            ],
            [
             0.9,
             "#4d9221"
            ],
            [
             1,
             "#276419"
            ]
           ],
           "sequential": [
            [
             0,
             "#0d0887"
            ],
            [
             0.1111111111111111,
             "#46039f"
            ],
            [
             0.2222222222222222,
             "#7201a8"
            ],
            [
             0.3333333333333333,
             "#9c179e"
            ],
            [
             0.4444444444444444,
             "#bd3786"
            ],
            [
             0.5555555555555556,
             "#d8576b"
            ],
            [
             0.6666666666666666,
             "#ed7953"
            ],
            [
             0.7777777777777778,
             "#fb9f3a"
            ],
            [
             0.8888888888888888,
             "#fdca26"
            ],
            [
             1,
             "#f0f921"
            ]
           ],
           "sequentialminus": [
            [
             0,
             "#0d0887"
            ],
            [
             0.1111111111111111,
             "#46039f"
            ],
            [
             0.2222222222222222,
             "#7201a8"
            ],
            [
             0.3333333333333333,
             "#9c179e"
            ],
            [
             0.4444444444444444,
             "#bd3786"
            ],
            [
             0.5555555555555556,
             "#d8576b"
            ],
            [
             0.6666666666666666,
             "#ed7953"
            ],
            [
             0.7777777777777778,
             "#fb9f3a"
            ],
            [
             0.8888888888888888,
             "#fdca26"
            ],
            [
             1,
             "#f0f921"
            ]
           ]
          },
          "colorway": [
           "#636efa",
           "#EF553B",
           "#00cc96",
           "#ab63fa",
           "#FFA15A",
           "#19d3f3",
           "#FF6692",
           "#B6E880",
           "#FF97FF",
           "#FECB52"
          ],
          "font": {
           "color": "#2a3f5f"
          },
          "geo": {
           "bgcolor": "white",
           "lakecolor": "white",
           "landcolor": "#E5ECF6",
           "showlakes": true,
           "showland": true,
           "subunitcolor": "white"
          },
          "hoverlabel": {
           "align": "left"
          },
          "hovermode": "closest",
          "mapbox": {
           "style": "light"
          },
          "paper_bgcolor": "white",
          "plot_bgcolor": "#E5ECF6",
          "polar": {
           "angularaxis": {
            "gridcolor": "white",
            "linecolor": "white",
            "ticks": ""
           },
           "bgcolor": "#E5ECF6",
           "radialaxis": {
            "gridcolor": "white",
            "linecolor": "white",
            "ticks": ""
           }
          },
          "scene": {
           "xaxis": {
            "backgroundcolor": "#E5ECF6",
            "gridcolor": "white",
            "gridwidth": 2,
            "linecolor": "white",
            "showbackground": true,
            "ticks": "",
            "zerolinecolor": "white"
           },
           "yaxis": {
            "backgroundcolor": "#E5ECF6",
            "gridcolor": "white",
            "gridwidth": 2,
            "linecolor": "white",
            "showbackground": true,
            "ticks": "",
            "zerolinecolor": "white"
           },
           "zaxis": {
            "backgroundcolor": "#E5ECF6",
            "gridcolor": "white",
            "gridwidth": 2,
            "linecolor": "white",
            "showbackground": true,
            "ticks": "",
            "zerolinecolor": "white"
           }
          },
          "shapedefaults": {
           "line": {
            "color": "#2a3f5f"
           }
          },
          "ternary": {
           "aaxis": {
            "gridcolor": "white",
            "linecolor": "white",
            "ticks": ""
           },
           "baxis": {
            "gridcolor": "white",
            "linecolor": "white",
            "ticks": ""
           },
           "bgcolor": "#E5ECF6",
           "caxis": {
            "gridcolor": "white",
            "linecolor": "white",
            "ticks": ""
           }
          },
          "title": {
           "x": 0.05
          },
          "xaxis": {
           "automargin": true,
           "gridcolor": "white",
           "linecolor": "white",
           "ticks": "",
           "title": {
            "standoff": 15
           },
           "zerolinecolor": "white",
           "zerolinewidth": 2
          },
          "yaxis": {
           "automargin": true,
           "gridcolor": "white",
           "linecolor": "white",
           "ticks": "",
           "title": {
            "standoff": 15
           },
           "zerolinecolor": "white",
           "zerolinewidth": 2
          }
         }
        },
        "xaxis": {
         "anchor": "y",
         "domain": [
          0,
          1
         ],
         "title": {
          "text": "index"
         }
        },
        "yaxis": {
         "anchor": "x",
         "domain": [
          0,
          1
         ],
         "title": {
          "text": "stationary"
         }
        }
       }
      }
     },
     "metadata": {},
     "output_type": "display_data"
    }
   ],
   "source": [
    "px.scatter(correlation_df, correlation_df.index, 'stationary')"
   ]
  },
  {
   "cell_type": "code",
   "execution_count": 10,
   "id": "841721ed",
   "metadata": {},
   "outputs": [
    {
     "data": {
      "application/vnd.plotly.v1+json": {
       "config": {
        "plotlyServerURL": "https://plot.ly"
       },
       "data": [
        {
         "hovertemplate": "index=%{x}<br>non_stationary=%{y}<extra></extra>",
         "legendgroup": "",
         "marker": {
          "color": "#636efa",
          "symbol": "circle"
         },
         "mode": "markers",
         "name": "",
         "orientation": "v",
         "showlegend": false,
         "type": "scatter",
         "x": [
          0,
          1,
          2,
          3,
          4,
          5,
          6,
          7,
          8,
          9,
          10,
          11,
          12,
          13,
          14,
          15,
          16,
          17,
          18,
          19,
          20,
          21,
          22,
          23,
          24,
          25,
          26,
          27,
          28,
          29,
          30,
          31,
          32,
          33,
          34,
          35,
          36,
          37,
          38,
          39,
          40,
          41,
          42,
          43,
          44,
          45,
          46,
          47,
          48,
          49,
          50,
          51,
          52,
          53,
          54,
          55,
          56,
          57,
          58,
          59,
          60,
          61,
          62,
          63,
          64,
          65,
          66,
          67,
          68,
          69,
          70,
          71,
          72,
          73,
          74,
          75,
          76,
          77,
          78,
          79,
          80,
          81,
          82,
          83,
          84,
          85,
          86,
          87,
          88,
          89,
          90,
          91,
          92,
          93,
          94,
          95,
          96,
          97,
          98
         ],
         "xaxis": "x",
         "y": [
          1,
          0.9292484327699911,
          0.8680273497114755,
          0.8127736825121202,
          0.7542124457316156,
          0.7189464286133528,
          0.6847494969749005,
          0.6399041698616585,
          0.5838970411402602,
          0.5341919656475523,
          0.4987714365769078,
          0.4614409186091471,
          0.41394939715166473,
          0.3585188183157339,
          0.2848453376454519,
          0.23715241719667154,
          0.20431047831362104,
          0.151437174490924,
          0.11500616903865836,
          0.06706341524669157,
          0.015043146238471666,
          -0.023883969729817916,
          -0.05894950986428666,
          -0.07941821822414614,
          -0.10742555624629882,
          -0.1318715103508939,
          -0.13508289179523253,
          -0.14368766056443374,
          -0.14668019948814365,
          -0.14218206703435188,
          -0.15594212616837042,
          -0.17427627380262586,
          -0.19442636594833734,
          -0.22114972957647103,
          -0.21430552655308294,
          -0.20686519589132316,
          -0.19294798099656738,
          -0.18282771507317092,
          -0.17348931833255932,
          -0.157540425488888,
          -0.14792369667694436,
          -0.12868841585450727,
          -0.10370643121634411,
          -0.10487319427334903,
          -0.10652004496179707,
          -0.10871345521211004,
          -0.09932818068677582,
          -0.09193671862480644,
          -0.08099668964593496,
          -0.07496033871089355,
          -0.061148227720203056,
          -0.04983781204140588,
          -0.03900413277116422,
          -0.027545034015957762,
          -0.01955435855371668,
          -0.022046758247450032,
          -0.03087784620085294,
          -0.02309155596395049,
          -0.015035549216560246,
          -0.009140894859147937,
          -0.009813895809559313,
          -0.025167409550172055,
          -0.05389835841445139,
          -0.07519822292495033,
          -0.09372320664118422,
          -0.10378584130875418,
          -0.10216917521698732,
          -0.11380956728365345,
          -0.12536419303161794,
          -0.1337278254009257,
          -0.1371643542260641,
          -0.1493205494852032,
          -0.1645297760301556,
          -0.19006989216309858,
          -0.22749553075529316,
          -0.25764354062099587,
          -0.2711528211650177,
          -0.2734729507646756,
          -0.26791622238132745,
          -0.2644869943990779,
          -0.26258012339799525,
          -0.25453910965416876,
          -0.24346435132684333,
          -0.23294012223071373,
          -0.2179813413700667,
          -0.2012071487563715,
          -0.18364185746207565,
          -0.1663124758945008,
          -0.14259647030578615,
          -0.12121169282896847,
          -0.10935787444495805,
          -0.10144736355881594,
          -0.0903424963048542,
          -0.07839833688508673,
          -0.06805654544832801,
          -0.052865314859238954,
          -0.03623149173360616,
          -0.0242498763351855,
          -0.013789010301594332
         ],
         "yaxis": "y"
        }
       ],
       "layout": {
        "legend": {
         "tracegroupgap": 0
        },
        "margin": {
         "t": 60
        },
        "template": {
         "data": {
          "bar": [
           {
            "error_x": {
             "color": "#2a3f5f"
            },
            "error_y": {
             "color": "#2a3f5f"
            },
            "marker": {
             "line": {
              "color": "#E5ECF6",
              "width": 0.5
             },
             "pattern": {
              "fillmode": "overlay",
              "size": 10,
              "solidity": 0.2
             }
            },
            "type": "bar"
           }
          ],
          "barpolar": [
           {
            "marker": {
             "line": {
              "color": "#E5ECF6",
              "width": 0.5
             },
             "pattern": {
              "fillmode": "overlay",
              "size": 10,
              "solidity": 0.2
             }
            },
            "type": "barpolar"
           }
          ],
          "carpet": [
           {
            "aaxis": {
             "endlinecolor": "#2a3f5f",
             "gridcolor": "white",
             "linecolor": "white",
             "minorgridcolor": "white",
             "startlinecolor": "#2a3f5f"
            },
            "baxis": {
             "endlinecolor": "#2a3f5f",
             "gridcolor": "white",
             "linecolor": "white",
             "minorgridcolor": "white",
             "startlinecolor": "#2a3f5f"
            },
            "type": "carpet"
           }
          ],
          "choropleth": [
           {
            "colorbar": {
             "outlinewidth": 0,
             "ticks": ""
            },
            "type": "choropleth"
           }
          ],
          "contour": [
           {
            "colorbar": {
             "outlinewidth": 0,
             "ticks": ""
            },
            "colorscale": [
             [
              0,
              "#0d0887"
             ],
             [
              0.1111111111111111,
              "#46039f"
             ],
             [
              0.2222222222222222,
              "#7201a8"
             ],
             [
              0.3333333333333333,
              "#9c179e"
             ],
             [
              0.4444444444444444,
              "#bd3786"
             ],
             [
              0.5555555555555556,
              "#d8576b"
             ],
             [
              0.6666666666666666,
              "#ed7953"
             ],
             [
              0.7777777777777778,
              "#fb9f3a"
             ],
             [
              0.8888888888888888,
              "#fdca26"
             ],
             [
              1,
              "#f0f921"
             ]
            ],
            "type": "contour"
           }
          ],
          "contourcarpet": [
           {
            "colorbar": {
             "outlinewidth": 0,
             "ticks": ""
            },
            "type": "contourcarpet"
           }
          ],
          "heatmap": [
           {
            "colorbar": {
             "outlinewidth": 0,
             "ticks": ""
            },
            "colorscale": [
             [
              0,
              "#0d0887"
             ],
             [
              0.1111111111111111,
              "#46039f"
             ],
             [
              0.2222222222222222,
              "#7201a8"
             ],
             [
              0.3333333333333333,
              "#9c179e"
             ],
             [
              0.4444444444444444,
              "#bd3786"
             ],
             [
              0.5555555555555556,
              "#d8576b"
             ],
             [
              0.6666666666666666,
              "#ed7953"
             ],
             [
              0.7777777777777778,
              "#fb9f3a"
             ],
             [
              0.8888888888888888,
              "#fdca26"
             ],
             [
              1,
              "#f0f921"
             ]
            ],
            "type": "heatmap"
           }
          ],
          "heatmapgl": [
           {
            "colorbar": {
             "outlinewidth": 0,
             "ticks": ""
            },
            "colorscale": [
             [
              0,
              "#0d0887"
             ],
             [
              0.1111111111111111,
              "#46039f"
             ],
             [
              0.2222222222222222,
              "#7201a8"
             ],
             [
              0.3333333333333333,
              "#9c179e"
             ],
             [
              0.4444444444444444,
              "#bd3786"
             ],
             [
              0.5555555555555556,
              "#d8576b"
             ],
             [
              0.6666666666666666,
              "#ed7953"
             ],
             [
              0.7777777777777778,
              "#fb9f3a"
             ],
             [
              0.8888888888888888,
              "#fdca26"
             ],
             [
              1,
              "#f0f921"
             ]
            ],
            "type": "heatmapgl"
           }
          ],
          "histogram": [
           {
            "marker": {
             "pattern": {
              "fillmode": "overlay",
              "size": 10,
              "solidity": 0.2
             }
            },
            "type": "histogram"
           }
          ],
          "histogram2d": [
           {
            "colorbar": {
             "outlinewidth": 0,
             "ticks": ""
            },
            "colorscale": [
             [
              0,
              "#0d0887"
             ],
             [
              0.1111111111111111,
              "#46039f"
             ],
             [
              0.2222222222222222,
              "#7201a8"
             ],
             [
              0.3333333333333333,
              "#9c179e"
             ],
             [
              0.4444444444444444,
              "#bd3786"
             ],
             [
              0.5555555555555556,
              "#d8576b"
             ],
             [
              0.6666666666666666,
              "#ed7953"
             ],
             [
              0.7777777777777778,
              "#fb9f3a"
             ],
             [
              0.8888888888888888,
              "#fdca26"
             ],
             [
              1,
              "#f0f921"
             ]
            ],
            "type": "histogram2d"
           }
          ],
          "histogram2dcontour": [
           {
            "colorbar": {
             "outlinewidth": 0,
             "ticks": ""
            },
            "colorscale": [
             [
              0,
              "#0d0887"
             ],
             [
              0.1111111111111111,
              "#46039f"
             ],
             [
              0.2222222222222222,
              "#7201a8"
             ],
             [
              0.3333333333333333,
              "#9c179e"
             ],
             [
              0.4444444444444444,
              "#bd3786"
             ],
             [
              0.5555555555555556,
              "#d8576b"
             ],
             [
              0.6666666666666666,
              "#ed7953"
             ],
             [
              0.7777777777777778,
              "#fb9f3a"
             ],
             [
              0.8888888888888888,
              "#fdca26"
             ],
             [
              1,
              "#f0f921"
             ]
            ],
            "type": "histogram2dcontour"
           }
          ],
          "mesh3d": [
           {
            "colorbar": {
             "outlinewidth": 0,
             "ticks": ""
            },
            "type": "mesh3d"
           }
          ],
          "parcoords": [
           {
            "line": {
             "colorbar": {
              "outlinewidth": 0,
              "ticks": ""
             }
            },
            "type": "parcoords"
           }
          ],
          "pie": [
           {
            "automargin": true,
            "type": "pie"
           }
          ],
          "scatter": [
           {
            "fillpattern": {
             "fillmode": "overlay",
             "size": 10,
             "solidity": 0.2
            },
            "type": "scatter"
           }
          ],
          "scatter3d": [
           {
            "line": {
             "colorbar": {
              "outlinewidth": 0,
              "ticks": ""
             }
            },
            "marker": {
             "colorbar": {
              "outlinewidth": 0,
              "ticks": ""
             }
            },
            "type": "scatter3d"
           }
          ],
          "scattercarpet": [
           {
            "marker": {
             "colorbar": {
              "outlinewidth": 0,
              "ticks": ""
             }
            },
            "type": "scattercarpet"
           }
          ],
          "scattergeo": [
           {
            "marker": {
             "colorbar": {
              "outlinewidth": 0,
              "ticks": ""
             }
            },
            "type": "scattergeo"
           }
          ],
          "scattergl": [
           {
            "marker": {
             "colorbar": {
              "outlinewidth": 0,
              "ticks": ""
             }
            },
            "type": "scattergl"
           }
          ],
          "scattermapbox": [
           {
            "marker": {
             "colorbar": {
              "outlinewidth": 0,
              "ticks": ""
             }
            },
            "type": "scattermapbox"
           }
          ],
          "scatterpolar": [
           {
            "marker": {
             "colorbar": {
              "outlinewidth": 0,
              "ticks": ""
             }
            },
            "type": "scatterpolar"
           }
          ],
          "scatterpolargl": [
           {
            "marker": {
             "colorbar": {
              "outlinewidth": 0,
              "ticks": ""
             }
            },
            "type": "scatterpolargl"
           }
          ],
          "scatterternary": [
           {
            "marker": {
             "colorbar": {
              "outlinewidth": 0,
              "ticks": ""
             }
            },
            "type": "scatterternary"
           }
          ],
          "surface": [
           {
            "colorbar": {
             "outlinewidth": 0,
             "ticks": ""
            },
            "colorscale": [
             [
              0,
              "#0d0887"
             ],
             [
              0.1111111111111111,
              "#46039f"
             ],
             [
              0.2222222222222222,
              "#7201a8"
             ],
             [
              0.3333333333333333,
              "#9c179e"
             ],
             [
              0.4444444444444444,
              "#bd3786"
             ],
             [
              0.5555555555555556,
              "#d8576b"
             ],
             [
              0.6666666666666666,
              "#ed7953"
             ],
             [
              0.7777777777777778,
              "#fb9f3a"
             ],
             [
              0.8888888888888888,
              "#fdca26"
             ],
             [
              1,
              "#f0f921"
             ]
            ],
            "type": "surface"
           }
          ],
          "table": [
           {
            "cells": {
             "fill": {
              "color": "#EBF0F8"
             },
             "line": {
              "color": "white"
             }
            },
            "header": {
             "fill": {
              "color": "#C8D4E3"
             },
             "line": {
              "color": "white"
             }
            },
            "type": "table"
           }
          ]
         },
         "layout": {
          "annotationdefaults": {
           "arrowcolor": "#2a3f5f",
           "arrowhead": 0,
           "arrowwidth": 1
          },
          "autotypenumbers": "strict",
          "coloraxis": {
           "colorbar": {
            "outlinewidth": 0,
            "ticks": ""
           }
          },
          "colorscale": {
           "diverging": [
            [
             0,
             "#8e0152"
            ],
            [
             0.1,
             "#c51b7d"
            ],
            [
             0.2,
             "#de77ae"
            ],
            [
             0.3,
             "#f1b6da"
            ],
            [
             0.4,
             "#fde0ef"
            ],
            [
             0.5,
             "#f7f7f7"
            ],
            [
             0.6,
             "#e6f5d0"
            ],
            [
             0.7,
             "#b8e186"
            ],
            [
             0.8,
             "#7fbc41"
            ],
            [
             0.9,
             "#4d9221"
            ],
            [
             1,
             "#276419"
            ]
           ],
           "sequential": [
            [
             0,
             "#0d0887"
            ],
            [
             0.1111111111111111,
             "#46039f"
            ],
            [
             0.2222222222222222,
             "#7201a8"
            ],
            [
             0.3333333333333333,
             "#9c179e"
            ],
            [
             0.4444444444444444,
             "#bd3786"
            ],
            [
             0.5555555555555556,
             "#d8576b"
            ],
            [
             0.6666666666666666,
             "#ed7953"
            ],
            [
             0.7777777777777778,
             "#fb9f3a"
            ],
            [
             0.8888888888888888,
             "#fdca26"
            ],
            [
             1,
             "#f0f921"
            ]
           ],
           "sequentialminus": [
            [
             0,
             "#0d0887"
            ],
            [
             0.1111111111111111,
             "#46039f"
            ],
            [
             0.2222222222222222,
             "#7201a8"
            ],
            [
             0.3333333333333333,
             "#9c179e"
            ],
            [
             0.4444444444444444,
             "#bd3786"
            ],
            [
             0.5555555555555556,
             "#d8576b"
            ],
            [
             0.6666666666666666,
             "#ed7953"
            ],
            [
             0.7777777777777778,
             "#fb9f3a"
            ],
            [
             0.8888888888888888,
             "#fdca26"
            ],
            [
             1,
             "#f0f921"
            ]
           ]
          },
          "colorway": [
           "#636efa",
           "#EF553B",
           "#00cc96",
           "#ab63fa",
           "#FFA15A",
           "#19d3f3",
           "#FF6692",
           "#B6E880",
           "#FF97FF",
           "#FECB52"
          ],
          "font": {
           "color": "#2a3f5f"
          },
          "geo": {
           "bgcolor": "white",
           "lakecolor": "white",
           "landcolor": "#E5ECF6",
           "showlakes": true,
           "showland": true,
           "subunitcolor": "white"
          },
          "hoverlabel": {
           "align": "left"
          },
          "hovermode": "closest",
          "mapbox": {
           "style": "light"
          },
          "paper_bgcolor": "white",
          "plot_bgcolor": "#E5ECF6",
          "polar": {
           "angularaxis": {
            "gridcolor": "white",
            "linecolor": "white",
            "ticks": ""
           },
           "bgcolor": "#E5ECF6",
           "radialaxis": {
            "gridcolor": "white",
            "linecolor": "white",
            "ticks": ""
           }
          },
          "scene": {
           "xaxis": {
            "backgroundcolor": "#E5ECF6",
            "gridcolor": "white",
            "gridwidth": 2,
            "linecolor": "white",
            "showbackground": true,
            "ticks": "",
            "zerolinecolor": "white"
           },
           "yaxis": {
            "backgroundcolor": "#E5ECF6",
            "gridcolor": "white",
            "gridwidth": 2,
            "linecolor": "white",
            "showbackground": true,
            "ticks": "",
            "zerolinecolor": "white"
           },
           "zaxis": {
            "backgroundcolor": "#E5ECF6",
            "gridcolor": "white",
            "gridwidth": 2,
            "linecolor": "white",
            "showbackground": true,
            "ticks": "",
            "zerolinecolor": "white"
           }
          },
          "shapedefaults": {
           "line": {
            "color": "#2a3f5f"
           }
          },
          "ternary": {
           "aaxis": {
            "gridcolor": "white",
            "linecolor": "white",
            "ticks": ""
           },
           "baxis": {
            "gridcolor": "white",
            "linecolor": "white",
            "ticks": ""
           },
           "bgcolor": "#E5ECF6",
           "caxis": {
            "gridcolor": "white",
            "linecolor": "white",
            "ticks": ""
           }
          },
          "title": {
           "x": 0.05
          },
          "xaxis": {
           "automargin": true,
           "gridcolor": "white",
           "linecolor": "white",
           "ticks": "",
           "title": {
            "standoff": 15
           },
           "zerolinecolor": "white",
           "zerolinewidth": 2
          },
          "yaxis": {
           "automargin": true,
           "gridcolor": "white",
           "linecolor": "white",
           "ticks": "",
           "title": {
            "standoff": 15
           },
           "zerolinecolor": "white",
           "zerolinewidth": 2
          }
         }
        },
        "xaxis": {
         "anchor": "y",
         "domain": [
          0,
          1
         ],
         "title": {
          "text": "index"
         }
        },
        "yaxis": {
         "anchor": "x",
         "domain": [
          0,
          1
         ],
         "title": {
          "text": "non_stationary"
         }
        }
       }
      }
     },
     "metadata": {},
     "output_type": "display_data"
    }
   ],
   "source": [
    "px.scatter(correlation_df, correlation_df.index, 'non_stationary')"
   ]
  },
  {
   "cell_type": "code",
   "execution_count": null,
   "id": "004d4436",
   "metadata": {},
   "outputs": [],
   "source": []
  }
 ],
 "metadata": {
  "kernelspec": {
   "display_name": "Python 3",
   "language": "python",
   "name": "python3"
  },
  "language_info": {
   "codemirror_mode": {
    "name": "ipython",
    "version": 3
   },
   "file_extension": ".py",
   "mimetype": "text/x-python",
   "name": "python",
   "nbconvert_exporter": "python",
   "pygments_lexer": "ipython3",
   "version": "3.11.4"
  }
 },
 "nbformat": 4,
 "nbformat_minor": 5
}
